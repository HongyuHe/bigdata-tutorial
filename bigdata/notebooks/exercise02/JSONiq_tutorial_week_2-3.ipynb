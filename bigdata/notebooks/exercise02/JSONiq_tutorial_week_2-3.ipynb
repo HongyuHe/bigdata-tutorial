{
 "cells": [
  {
   "cell_type": "markdown",
   "id": "80b4ef60",
   "metadata": {},
   "source": [
    "# Big Data HS 2023\n",
    "\n",
    "## JSONiq tutorial - week 2 -3"
   ]
  },
  {
   "cell_type": "markdown",
   "id": "0d21726b",
   "metadata": {},
   "source": [
    "This is the JSONiq tutorial for weeks 2 and 3.\n",
    "\n",
    "Do not forget to use localhost:8888 as the URL to make sure the notebook is accessed via docker! And if it does not work, you should delete all containers, images, and volumes, then try again with\n",
    "\n"
   ]
  },
  {
   "cell_type": "markdown",
   "id": "469ccebf",
   "metadata": {},
   "source": [
    "````\n",
    "docker-compose up\n",
    "````"
   ]
  },
  {
   "cell_type": "markdown",
   "id": "7fa4dd13",
   "metadata": {},
   "source": [
    "Like last week, junst run the cell below to connect the Jupyter notebook with RumbleDB."
   ]
  },
  {
   "cell_type": "code",
   "execution_count": 3,
   "id": "49147176",
   "metadata": {},
   "outputs": [
    {
     "name": "stdout",
     "output_type": "stream",
     "text": [
      "The rumbledb extension is already loaded. To reload it, use:\n",
      "  %reload_ext rumbledb\n",
      "env: RUMBLEDB_SERVER=http://localhost:9090/jsoniq\n"
     ]
    }
   ],
   "source": [
    "%load_ext rumbledb\n",
    "%env RUMBLEDB_SERVER=http://localhost:9090/jsoniq"
   ]
  },
  {
   "cell_type": "markdown",
   "id": "27a5a020",
   "metadata": {},
   "source": [
    "## Variable bindings and let clauses\n",
    "\n",
    "Done? Alright. Let us now get started with some new material.\n",
    "\n",
    "Since JSONiq is a functional and declarative language, it does not have variable assignment like in imperative languages like Java or Python: you cannot modify the value of a variable.\n",
    "\n",
    "However, it does have variables and variable bindings; the difference between a variable binding and a variable assignment is that there is no \"before\" and \"after\". A variable is bound to some value for the purpose of evaluation in other expressions.\n",
    "\n",
    "Variables (which start with a dollar sign) can be bound to values using let clauses, like so:\n"
   ]
  },
  {
   "cell_type": "code",
   "execution_count": 2,
   "id": "90e2f365",
   "metadata": {},
   "outputs": [
    {
     "name": "stdout",
     "output_type": "stream",
     "text": [
      "Took: 0.8695101737976074 ms\n",
      "2\n"
     ]
    }
   ],
   "source": [
    "%%jsoniq\n",
    "let $x := 1\n",
    "return $x + $x"
   ]
  },
  {
   "cell_type": "markdown",
   "id": "1047ae31",
   "metadata": {},
   "source": [
    "If you have already seen functional languages such as Haskell or OCaml, this should look familiar to you.\n",
    "\n",
    "In the above JSONiq query, the variable \\\\$x is bound to the value 1, and then the expression \\\\$x + \\\\$x is evaluated knowing that $x is bound to the value 1, leading to the output 2.\n",
    "\n",
    "Note that the indentation is irrelevant, the following also works:"
   ]
  },
  {
   "cell_type": "code",
   "execution_count": 4,
   "id": "0c6473ac",
   "metadata": {},
   "outputs": [
    {
     "name": "stdout",
     "output_type": "stream",
     "text": [
      "Took: 0.04834318161010742 ms\n",
      "2\n"
     ]
    }
   ],
   "source": [
    "%%jsoniq\n",
    "let $x := 1 return $x + $x"
   ]
  },
  {
   "cell_type": "code",
   "execution_count": 5,
   "id": "a443aff7",
   "metadata": {},
   "outputs": [
    {
     "name": "stdout",
     "output_type": "stream",
     "text": [
      "Took: 0.030689239501953125 ms\n",
      "2\n"
     ]
    }
   ],
   "source": [
    "%%jsoniq\n",
    "let\n",
    "  $x := 1 \n",
    "return\n",
    "  $x + $x"
   ]
  },
  {
   "cell_type": "markdown",
   "id": "06a3a2e1",
   "metadata": {},
   "source": [
    "Having said that, we still strongly recommend to stick to the initial convention with the let and return clauses nicely aligned (this is to facilitate reading the query by a human)."
   ]
  },
  {
   "cell_type": "markdown",
   "id": "b0f07c3a",
   "metadata": {},
   "source": [
    "Variables can also be bound to other values than numbers, for example booleans:"
   ]
  },
  {
   "cell_type": "code",
   "execution_count": 6,
   "id": "c8037b28",
   "metadata": {},
   "outputs": [
    {
     "name": "stdout",
     "output_type": "stream",
     "text": [
      "Took: 0.033299922943115234 ms\n",
      "\"this is true\"\n"
     ]
    }
   ],
   "source": [
    "%%jsoniq\n",
    "let $x := 1 < 2\n",
    "return if($x)\n",
    "       then \"this is true\"\n",
    "       else \"this is false\""
   ]
  },
  {
   "cell_type": "markdown",
   "id": "fd6e98d7",
   "metadata": {},
   "source": [
    "It is also possible to have a cascade of let clauses -- as many as you want! But always remember to end with a return clause -- this is a functional language, the query must return something!"
   ]
  },
  {
   "cell_type": "code",
   "execution_count": 7,
   "id": "171e69ac",
   "metadata": {},
   "outputs": [
    {
     "name": "stdout",
     "output_type": "stream",
     "text": [
      "Took: 0.01401209831237793 ms\n",
      "\"this is true\"\n"
     ]
    }
   ],
   "source": [
    "%%jsoniq\n",
    "let $x := 1\n",
    "let $y := $x + $x\n",
    "let $z := $x < $y\n",
    "return if($z)\n",
    "       then \"this is true\"\n",
    "       else \"this is false\""
   ]
  },
  {
   "cell_type": "markdown",
   "id": "3998f732",
   "metadata": {},
   "source": [
    "As you notice with the above query, every clause can \"see\" the variables bound in previous clauses, in other words the scope of a variable binding is all the clauses (let and return) that follow.\n",
    "\n",
    "In particular the following query will throw an error, because variables are used out of their scope:"
   ]
  },
  {
   "cell_type": "code",
   "execution_count": 8,
   "id": "d4babea7",
   "metadata": {},
   "outputs": [
    {
     "name": "stdout",
     "output_type": "stream",
     "text": [
      "Took: 0.04521298408508301 ms\n",
      "There was an error on line 1 in file:/home/:\n",
      "\n",
      "let $x := $y\n",
      "          ^\n",
      "\n",
      "Code: [XPST0008]\n",
      "Message: Uninitialized variable reference: y\n",
      "Metadata: file:/home/:LINE:1:COLUMN:10:\n",
      "This code can also be looked up in the documentation and specifications for more information.\n",
      "\n"
     ]
    }
   ],
   "source": [
    "%%jsoniq\n",
    "let $x := $y\n",
    "let $y := $z + $x\n",
    "let $z := $x < $y\n",
    "return if($z)\n",
    "       then \"this is true\"\n",
    "       else \"this is false\""
   ]
  },
  {
   "cell_type": "markdown",
   "id": "28b189ea",
   "metadata": {},
   "source": [
    "It is possible to hide a variable binding by reusing a variable name -- but keep in mind that this is not an assignment!\n",
    "It is a new binding that hides the previous one because there is no way to reference the previous binding any more: it is still there, but becomes invisible.\n",
    "    "
   ]
  },
  {
   "cell_type": "code",
   "execution_count": 9,
   "id": "868b94dc",
   "metadata": {},
   "outputs": [
    {
     "name": "stdout",
     "output_type": "stream",
     "text": [
      "Took: 0.030206918716430664 ms\n",
      "4\n"
     ]
    }
   ],
   "source": [
    "%%jsoniq\n",
    "let $x := 1\n",
    "let $x := $x + $x\n",
    "let $x := $x + $x\n",
    "return $x"
   ]
  },
  {
   "cell_type": "markdown",
   "id": "b09f69ae",
   "metadata": {},
   "source": [
    "If it confuses you, then just do not hide variables and use a new name every time."
   ]
  },
  {
   "cell_type": "markdown",
   "id": "b92a4859",
   "metadata": {},
   "source": [
    "## Reading a text file\n",
    "\n",
    "Next, we will learn how to read some data, starting with text files.\n",
    "\n",
    "Download the text file (The start of Hamlet, by Shakespeare) from [this location](https://www.rumbledb.org/samples/hamlet.txt) and copy it into the notebooks folder, besides this tutorial file. Rename it to hamlet.txt"
   ]
  },
  {
   "cell_type": "markdown",
   "id": "05f22856",
   "metadata": {},
   "source": [
    "Now, you can open it with:"
   ]
  },
  {
   "cell_type": "code",
   "execution_count": null,
   "id": "8dd8206b",
   "metadata": {
    "tags": []
   },
   "outputs": [],
   "source": [
    "%%jsoniq\n",
    "unparsed-text(\"hamlet.txt\")"
   ]
  },
  {
   "cell_type": "markdown",
   "id": "6f15cbe6",
   "metadata": {},
   "source": [
    "The query above returned the contents of the text file as a single (big) string. This is very declarative, is it not?\n",
    "\n",
    "By the way, RumbleDB can also directly get the file from the Web:\n"
   ]
  },
  {
   "cell_type": "code",
   "execution_count": null,
   "id": "d2b4da4c",
   "metadata": {
    "tags": []
   },
   "outputs": [],
   "source": [
    "%%jsoniq\n",
    "unparsed-text(\"https://www.rumbledb.org/samples/hamlet.txt\")"
   ]
  },
  {
   "cell_type": "markdown",
   "id": "3280f7dd",
   "metadata": {},
   "source": [
    "## String functions\n",
    "\n",
    "Now let us look into a few useful string functions. JSONiq has quite a large library of builtin functions.\n",
    "\n",
    "One of them, contains() tests whether the first string contains the second one. For example, it is not surprising that our text file contains the substring \"Hamlet\":"
   ]
  },
  {
   "cell_type": "code",
   "execution_count": 12,
   "id": "de5eaff7",
   "metadata": {},
   "outputs": [
    {
     "name": "stdout",
     "output_type": "stream",
     "text": [
      "Took: 0.06026482582092285 ms\n",
      "true\n"
     ]
    }
   ],
   "source": [
    "%%jsoniq\n",
    "contains(unparsed-text(\"https://www.rumbledb.org/samples/hamlet.txt\"), \"Hamlet\")"
   ]
  },
  {
   "cell_type": "markdown",
   "id": "9df87ef6",
   "metadata": {},
   "source": [
    "It is perhaps also not surprising that it does not contain the substring \"Bitcoin\". By the way, let us now use a variable to store our document:"
   ]
  },
  {
   "cell_type": "code",
   "execution_count": 13,
   "id": "d20c0d55",
   "metadata": {},
   "outputs": [
    {
     "name": "stdout",
     "output_type": "stream",
     "text": [
      "Took: 0.08081912994384766 ms\n",
      "false\n"
     ]
    }
   ],
   "source": [
    "%%jsoniq\n",
    "let $doc := unparsed-text(\"https://www.rumbledb.org/samples/hamlet.txt\")\n",
    "return contains($doc, \"Bitcoin\")"
   ]
  },
  {
   "cell_type": "markdown",
   "id": "a661049e",
   "metadata": {},
   "source": [
    "The function starts-with() tests whether the first string starts with the second one:"
   ]
  },
  {
   "cell_type": "code",
   "execution_count": 13,
   "id": "366a92aa",
   "metadata": {},
   "outputs": [
    {
     "name": "stdout",
     "output_type": "stream",
     "text": [
      "Took: 0.5515632629394531 ms\n",
      "true\n"
     ]
    }
   ],
   "source": [
    "%%jsoniq\n",
    "let $doc := unparsed-text(\"https://www.rumbledb.org/samples/hamlet.txt\")\n",
    "return starts-with($doc, \"Hamlet\")"
   ]
  },
  {
   "cell_type": "markdown",
   "id": "ab9006e5",
   "metadata": {},
   "source": [
    "And ends-with() tests whether the first string ends with the second one:"
   ]
  },
  {
   "cell_type": "code",
   "execution_count": 14,
   "id": "a7ebbfc3",
   "metadata": {},
   "outputs": [
    {
     "name": "stdout",
     "output_type": "stream",
     "text": [
      "Took: 0.5208020210266113 ms\n",
      "false\n"
     ]
    }
   ],
   "source": [
    "%%jsoniq\n",
    "let $doc := unparsed-text(\"https://www.rumbledb.org/samples/hamlet.txt\")\n",
    "return ends-with($doc, \"Who is there?\")"
   ]
  },
  {
   "cell_type": "markdown",
   "id": "98b8d2f4",
   "metadata": {},
   "source": [
    "## Opening a file as a sequence of strings\n",
    "\n",
    "Now, let us start showing the superpowers of JSONiq. Like SQL (who handles tables as large sets of records), JSONiq can handle large collections in so-called sequences.\n",
    "\n",
    "The function unparsed-text-lines() returns a sequence of strings, rather than a single string, like so:"
   ]
  },
  {
   "cell_type": "code",
   "execution_count": 6,
   "id": "bb655f40",
   "metadata": {
    "tags": []
   },
   "outputs": [
    {
     "name": "stdout",
     "output_type": "stream",
     "text": [
      "Took: 0.12991595268249512 ms\n",
      "\"Warning! The output sequence contains 6080 items but its materialization was capped at 200 items. This value can be configured with the result-size parameter in the query string of the HTTP request.\"\n",
      "\"Hamlet\"\n",
      "\"by William Shakespeare\"\n",
      "\"Edited by Barbara A. Mowat and Paul Werstine\"\n",
      "\"  with Michael Poston and Rebecca Niles\"\n",
      "\"Folger Shakespeare Library\"\n",
      "\"https://shakespeare.folger.edu/shakespeares-works/hamlet/\"\n",
      "\"Created on Jul 31, 2015, from FDT version 0.9.2\"\n",
      "\"\"\n",
      "\"Characters in the Play\"\n",
      "\"======================\"\n",
      "\"THE GHOST\"\n",
      "\"HAMLET, Prince of Denmark, son of the late King Hamlet and Queen Gertrude\"\n",
      "\"QUEEN GERTRUDE, widow of King Hamlet, now married to Claudius\"\n",
      "\"KING CLAUDIUS, brother to the late King Hamlet\"\n",
      "\"OPHELIA\"\n",
      "\"LAERTES, her brother\"\n",
      "\"POLONIUS, father of Ophelia and Laertes, councillor to King Claudius\"\n",
      "\"REYNALDO, servant to Polonius\"\n",
      "\"HORATIO, Hamlet's friend and confidant\"\n",
      "\"Courtiers at the Danish court:\"\n",
      "\"  VOLTEMAND\"\n",
      "\"  CORNELIUS\"\n",
      "\"  ROSENCRANTZ\"\n",
      "\"  GUILDENSTERN\"\n",
      "\"  OSRIC\"\n",
      "\"  Gentlemen\"\n",
      "\"  A Lord\"\n",
      "\"Danish soldiers:\"\n",
      "\"  FRANCISCO\"\n",
      "\"  BARNARDO\"\n",
      "\"  MARCELLUS\"\n",
      "\"FORTINBRAS, Prince of Norway\"\n",
      "\"A Captain in Fortinbras's army\"\n",
      "\"Ambassadors to Denmark from England\"\n",
      "\"Players who take the roles of Prologue, Player King, Player Queen, and Lucianus in <title>The Murder of Gonzago</title>\"\n",
      "\"Two Messengers\"\n",
      "\"Sailors\"\n",
      "\"Gravedigger\"\n",
      "\"Gravedigger's companion\"\n",
      "\"Doctor of Divinity\"\n",
      "\"Attendants, Lords, Guards, Musicians, Laertes's Followers, Soldiers, Officers\"\n",
      "\"\"\n",
      "\"\"\n",
      "\"ACT 1\"\n",
      "\"=====\"\n",
      "\"\"\n",
      "\"Scene 1\"\n",
      "\"=======\"\n",
      "\"[Enter Barnardo and Francisco, two sentinels.]\"\n",
      "\"\"\n",
      "\"\"\n",
      "\"BARNARDO  Who's there?\"\n",
      "\"\"\n",
      "\"FRANCISCO\"\n",
      "\"Nay, answer me. Stand and unfold yourself.\"\n",
      "\"\"\n",
      "\"BARNARDO  Long live the King!\"\n",
      "\"\"\n",
      "\"FRANCISCO  Barnardo?\"\n",
      "\"\"\n",
      "\"BARNARDO  He.\"\n",
      "\"\"\n",
      "\"FRANCISCO\"\n",
      "\"You come most carefully upon your hour.\"\n",
      "\"\"\n",
      "\"BARNARDO\"\n",
      "\"'Tis now struck twelve. Get thee to bed, Francisco.\"\n",
      "\"\"\n",
      "\"FRANCISCO\"\n",
      "\"For this relief much thanks. 'Tis bitter cold,\"\n",
      "\"And I am sick at heart.\"\n",
      "\"\"\n",
      "\"BARNARDO  Have you had quiet guard?\"\n",
      "\"\"\n",
      "\"FRANCISCO  Not a mouse stirring.\"\n",
      "\"\"\n",
      "\"BARNARDO  Well, good night.\"\n",
      "\"If you do meet Horatio and Marcellus,\"\n",
      "\"The rivals of my watch, bid them make haste.\"\n",
      "\"\"\n",
      "\"[Enter Horatio and Marcellus.]\"\n",
      "\"\"\n",
      "\"\"\n",
      "\"FRANCISCO\"\n",
      "\"I think I hear them.--Stand ho! Who is there?\"\n",
      "\"\"\n",
      "\"HORATIO  Friends to this ground.\"\n",
      "\"\"\n",
      "\"MARCELLUS  And liegemen to the Dane.\"\n",
      "\"\"\n",
      "\"FRANCISCO  Give you good night.\"\n",
      "\"\"\n",
      "\"MARCELLUS\"\n",
      "\"O farewell, honest soldier. Who hath relieved\"\n",
      "\"you?\"\n",
      "\"\"\n",
      "\"FRANCISCO\"\n",
      "\"Barnardo hath my place. Give you good night.\"\n",
      "\"[Francisco exits.]\"\n",
      "\"\"\n",
      "\"MARCELLUS  Holla, Barnardo.\"\n",
      "\"\"\n",
      "\"BARNARDO  Say, what, is Horatio there?\"\n",
      "\"\"\n",
      "\"HORATIO  A piece of him.\"\n",
      "\"\"\n",
      "\"BARNARDO\"\n",
      "\"Welcome, Horatio.--Welcome, good Marcellus.\"\n",
      "\"\"\n",
      "\"HORATIO\"\n",
      "\"What, has this thing appeared again tonight?\"\n",
      "\"\"\n",
      "\"BARNARDO  I have seen nothing.\"\n",
      "\"\"\n",
      "\"MARCELLUS\"\n",
      "\"Horatio says 'tis but our fantasy\"\n",
      "\"And will not let belief take hold of him\"\n",
      "\"Touching this dreaded sight twice seen of us.\"\n",
      "\"Therefore I have entreated him along\"\n",
      "\"With us to watch the minutes of this night,\"\n",
      "\"That, if again this apparition come,\"\n",
      "\"He may approve our eyes and speak to it.\"\n",
      "\"\"\n",
      "\"HORATIO\"\n",
      "\"Tush, tush, 'twill not appear.\"\n",
      "\"\"\n",
      "\"BARNARDO  Sit down awhile,\"\n",
      "\"And let us once again assail your ears,\"\n",
      "\"That are so fortified against our story,\"\n",
      "\"What we have two nights seen.\"\n",
      "\"\"\n",
      "\"HORATIO  Well, sit we down,\"\n",
      "\"And let us hear Barnardo speak of this.\"\n",
      "\"\"\n",
      "\"BARNARDO  Last night of all,\"\n",
      "\"When yond same star that's westward from the pole\"\n",
      "\"Had made his course t' illume that part of heaven\"\n",
      "\"Where now it burns, Marcellus and myself,\"\n",
      "\"The bell then beating one--\"\n",
      "\"\"\n",
      "\"[Enter Ghost.]\"\n",
      "\"\"\n",
      "\"\"\n",
      "\"MARCELLUS\"\n",
      "\"Peace, break thee off! Look where it comes again.\"\n",
      "\"\"\n",
      "\"BARNARDO\"\n",
      "\"In the same figure like the King that's dead.\"\n",
      "\"\"\n",
      "\"MARCELLUS, [to Horatio]\"\n",
      "\"Thou art a scholar. Speak to it, Horatio.\"\n",
      "\"\"\n",
      "\"BARNARDO\"\n",
      "\"Looks he not like the King? Mark it, Horatio.\"\n",
      "\"\"\n",
      "\"HORATIO\"\n",
      "\"Most like. It harrows me with fear and wonder.\"\n",
      "\"\"\n",
      "\"BARNARDO\"\n",
      "\"It would be spoke to.\"\n",
      "\"\"\n",
      "\"MARCELLUS  Speak to it, Horatio.\"\n",
      "\"\"\n",
      "\"HORATIO\"\n",
      "\"What art thou that usurp'st this time of night,\"\n",
      "\"Together with that fair and warlike form\"\n",
      "\"In which the majesty of buried Denmark\"\n",
      "\"Did sometimes march? By heaven, I charge thee,\"\n",
      "\"speak.\"\n",
      "\"\"\n",
      "\"MARCELLUS\"\n",
      "\"It is offended.\"\n",
      "\"\"\n",
      "\"BARNARDO  See, it stalks away.\"\n",
      "\"\"\n",
      "\"HORATIO\"\n",
      "\"Stay! speak! speak! I charge thee, speak!\"\n",
      "\"[Ghost exits.]\"\n",
      "\"\"\n",
      "\"MARCELLUS  'Tis gone and will not answer.\"\n",
      "\"\"\n",
      "\"BARNARDO\"\n",
      "\"How now, Horatio, you tremble and look pale.\"\n",
      "\"Is not this something more than fantasy?\"\n",
      "\"What think you on 't?\"\n",
      "\"\"\n",
      "\"HORATIO\"\n",
      "\"Before my God, I might not this believe\"\n",
      "\"Without the sensible and true avouch\"\n",
      "\"Of mine own eyes.\"\n",
      "\"\"\n",
      "\"MARCELLUS  Is it not like the King?\"\n",
      "\"\"\n",
      "\"HORATIO  As thou art to thyself.\"\n",
      "\"Such was the very armor he had on\"\n",
      "\"When he the ambitious Norway combated.\"\n",
      "\"So frowned he once when, in an angry parle,\"\n",
      "\"He smote the sledded Polacks on the ice.\"\n",
      "\"'Tis strange.\"\n",
      "\"\"\n"
     ]
    }
   ],
   "source": [
    "%%jsoniq\n",
    "unparsed-text-lines(\"hamlet.txt\")"
   ]
  },
  {
   "cell_type": "markdown",
   "id": "eb93ef7f",
   "metadata": {},
   "source": [
    "This ability to process sequences will be fundamental to scale out: here we are reading from your local drive,\n",
    "but JSONiq can also read from S3, Azure Blob Storage or HDFS, and it can handle sequences with billions of strings\n",
    "like a charm. It would not be realistic to return a single big string for a dataset with Terabytes of data: a huge sequence of small strings is then the way to go."
   ]
  },
  {
   "cell_type": "markdown",
   "id": "1cd650dd",
   "metadata": {},
   "source": [
    "# Try your own queries!\n",
    "\n",
    "This notebook is interactive. You can edit all queries above and also execute your own! We will show you more features every week."
   ]
  },
  {
   "cell_type": "code",
   "execution_count": 5,
   "id": "fa53f4cf",
   "metadata": {},
   "outputs": [
    {
     "name": "stdout",
     "output_type": "stream",
     "text": [
      "Took: 19.654428243637085 ms\n",
      "2\n"
     ]
    }
   ],
   "source": [
    "%%jsoniq\n",
    "1+1"
   ]
  },
  {
   "cell_type": "code",
   "execution_count": 17,
   "id": "c781a830",
   "metadata": {},
   "outputs": [
    {
     "name": "stdout",
     "output_type": "stream",
     "text": [
      "Took: 0.014804363250732422 ms\n",
      "2\n"
     ]
    }
   ],
   "source": [
    "%%jsoniq\n",
    "1+1"
   ]
  },
  {
   "cell_type": "code",
   "execution_count": 18,
   "id": "067e0db1",
   "metadata": {},
   "outputs": [
    {
     "name": "stdout",
     "output_type": "stream",
     "text": [
      "Took: 0.01414799690246582 ms\n",
      "2\n"
     ]
    }
   ],
   "source": [
    "%%jsoniq\n",
    "1+1"
   ]
  },
  {
   "cell_type": "code",
   "execution_count": 19,
   "id": "1ddcd5e7",
   "metadata": {},
   "outputs": [
    {
     "name": "stdout",
     "output_type": "stream",
     "text": [
      "Took: 0.015589237213134766 ms\n",
      "2\n"
     ]
    }
   ],
   "source": [
    "%%jsoniq\n",
    "1+1"
   ]
  },
  {
   "cell_type": "code",
   "execution_count": 20,
   "id": "e5b0ab65",
   "metadata": {},
   "outputs": [
    {
     "name": "stdout",
     "output_type": "stream",
     "text": [
      "Took: 0.014477968215942383 ms\n",
      "2\n"
     ]
    }
   ],
   "source": [
    "%%jsoniq\n",
    "1+1"
   ]
  },
  {
   "cell_type": "code",
   "execution_count": 21,
   "id": "987f06d0",
   "metadata": {},
   "outputs": [
    {
     "name": "stdout",
     "output_type": "stream",
     "text": [
      "Took: 0.015468597412109375 ms\n",
      "2\n"
     ]
    }
   ],
   "source": [
    "%%jsoniq\n",
    "1+1"
   ]
  },
  {
   "cell_type": "code",
   "execution_count": null,
   "id": "7831547c",
   "metadata": {},
   "outputs": [],
   "source": []
  },
  {
   "cell_type": "code",
   "execution_count": null,
   "id": "ac36ecd5",
   "metadata": {},
   "outputs": [],
   "source": []
  },
  {
   "cell_type": "code",
   "execution_count": null,
   "id": "bdb50a93",
   "metadata": {},
   "outputs": [],
   "source": []
  }
 ],
 "metadata": {
  "kernelspec": {
   "display_name": "Python 3 (ipykernel)",
   "language": "python",
   "name": "python3"
  },
  "language_info": {
   "codemirror_mode": {
    "name": "ipython",
    "version": 3
   },
   "file_extension": ".py",
   "mimetype": "text/x-python",
   "name": "python",
   "nbconvert_exporter": "python",
   "pygments_lexer": "ipython3",
   "version": "3.11.6"
  }
 },
 "nbformat": 4,
 "nbformat_minor": 5
}
