{
 "cells": [
  {
   "cell_type": "markdown",
   "metadata": {},
   "source": [
    "# <center>Big Data &ndash; Exercise 1</center>\n",
    "## <center>Fall 2023 &ndash; Week 1 &ndash; ETH Zurich</center>"
   ]
  },
  {
   "cell_type": "markdown",
   "metadata": {},
   "source": [
    "### Aims\n",
    "- **After this exercise:** \n",
    "    - Understand the SQL language and its common query patterns.\n",
    "    - Understand the 'table' data shape, normalization, and when they can (and should) be used.\n",
    "    - be able to query data in tables with the SQL language.\n",
    "- **Later in the semester:** \n",
    "    - Relate these language features and query patterns relative to other data shapes, technologies, and the languages designed to query them.\n",
    "    - Understand when tables are not the appropriate shape for your data and when you can (and should) throw normalization away!"
   ]
  },
  {
   "cell_type": "markdown",
   "metadata": {},
   "source": [
    "### Prerequisites\n",
    "In this exercise, you will brush-up the fundamental concepts of relational databases and SQL. If you haven't taken an introductory databases course (or want to refresh your knowledge) we recommend you to read the following:\n",
    "\n",
    "Garcia-Molina, Ullman, Widom: Database Systems: The Complete Book. Pearson, 2. Edition, 2008. (Chapters 1, 2, 3, and 6) [Available in the ETH Library] [[Online]](https://ebookcentral.proquest.com/lib/ethz/detail.action?pq-origsite=primo&docID=5832965) [[Selected solutions]](http://infolab.stanford.edu/~ullman/dscbsols/sols.html).\n",
    "\n",
    "Or have a look at the recordings from Information Systems for Engineers - ETH Zurich, available on [[YouTube]](https://www.youtube.com/c/GhislainFournysLectures)."
   ]
  },
  {
   "cell_type": "markdown",
   "metadata": {},
   "source": [
    "## Normal Forms"
   ]
  },
  {
   "cell_type": "markdown",
   "metadata": {},
   "source": [
    "### 1NF"
   ]
  },
  {
   "cell_type": "markdown",
   "metadata": {},
   "source": [
    "**Mnemonic:**\n",
    "1NF is mostly concerned with properties of single (1) cells."
   ]
  },
  {
   "cell_type": "markdown",
   "metadata": {},
   "source": [
    "**Counterexamples**\n",
    "\n",
    "* Mixing data types\n",
    "\n",
    "| name     | grade |\n",
    "|----------|--------|\n",
    "| Rachel   | 5      |\n",
    "| Monica   | 6      |\n",
    "| Joey     | Fail   |\n",
    "| Chandler | 5      |\n",
    "\n",
    "* No primariy key:\n",
    "\n",
    "| name     | grade |\n",
    "|----------|--------|\n",
    "| Rachel   | 5      |\n",
    "| Monica   | 6      |\n",
    "| Joey     | 3      |\n",
    "| Chandler | 5      |\n",
    "| Monica   | 5      |\n",
    "\n",
    "    Data inconsistency\n",
    "\n",
    "* Repeating groups:\n",
    "\n",
    "| name     | grades                          |\n",
    "|----------|---------------------------------|\n",
    "| Rachel   | math: 5, physics: 5 |\n",
    "| Monica   | math: 6, physics: 6, biology: 6 |\n",
    "| Joey     | math: 3, biology: 3 |\n",
    "| Chandler | physics: 4, biology: 4 |\n",
    "\n"
   ]
  },
  {
   "cell_type": "markdown",
   "metadata": {},
   "source": [
    "#### Normalization"
   ]
  },
  {
   "cell_type": "markdown",
   "metadata": {
    "tags": []
   },
   "source": [
    "* Flattening to resolve repeating groups\n",
    "\n",
    "| name   | course  | grade |\n",
    "|--------|---------|-------|\n",
    "| Monica | math    | 6     |\n",
    "| Monica | physics | 6     |\n",
    "| Monica | biology | 6     |\n",
    "| Joey   | math    | 3     |\n",
    "| Joey   | biology | 3     |"
   ]
  },
  {
   "cell_type": "markdown",
   "metadata": {
    "tags": []
   },
   "source": [
    "#### 1NF rules\n",
    "* Mixing data types in cells within the same column is not permitted\n",
    "* Tables without a primary key are not permitted\n",
    "* Repeating groups are not permitted\n",
    "* Using row order to convey information is not permitted"
   ]
  },
  {
   "cell_type": "markdown",
   "metadata": {},
   "source": [
    "### 2NF"
   ]
  },
  {
   "cell_type": "markdown",
   "metadata": {},
   "source": [
    "* Adding school information\n",
    "\n",
    "| name     | course  | grade | school |\n",
    "|----------|---------|-------|--------|\n",
    "| Monica   | math    | 6     | ETH    |\n",
    "| Monica   | physics | 6     | ETH    |\n",
    "| Monica   | biology | 6     | ETH    |\n",
    "| Chandler | math    | 4     | EPFL   |"
   ]
  },
  {
   "cell_type": "markdown",
   "metadata": {},
   "source": [
    "#### Deletion anomaly"
   ]
  },
  {
   "cell_type": "markdown",
   "metadata": {},
   "source": [
    "* Delete row 4 because the grade was wrong:\n",
    "\n",
    "| name     | course  | grade | school |\n",
    "|----------|---------|-------|--------|\n",
    "| Monica   | math    | 6     | ETH    |\n",
    "| Monica   | physics | 6     | ETH    |\n",
    "| Monica   | biology | 6     | ETH    |\n",
    "\n",
    "*To which school does Chandler belong?*"
   ]
  },
  {
   "cell_type": "markdown",
   "metadata": {},
   "source": [
    "#### Update anomaly"
   ]
  },
  {
   "cell_type": "markdown",
   "metadata": {},
   "source": [
    "* Monica transferred to EPFL\n",
    "\n",
    "| name     | course  | grade | school |\n",
    "|----------|---------|-------|--------|\n",
    "| Monica   | math    | 6     | EPFL   |\n",
    "| Monica   | physics | 6     | EPFL   |\n",
    "| Monica   | biology | 6     | **ETH**|\n",
    "\n",
    "    Data inconsistency\n",
    "\n",
    "**What caused these problems?**"
   ]
  },
  {
   "cell_type": "markdown",
   "metadata": {},
   "source": [
    "#### 2NF rules\n",
    "* Each non-key attribute must depend on the entire primary key"
   ]
  },
  {
   "cell_type": "markdown",
   "metadata": {
    "tags": []
   },
   "source": [
    "#### Normalization\n",
    "\n",
    "* Primary key being a composite key: `{name, course}`\n",
    "* Non-key attributes: `{grade, school}`\n",
    "\n",
    "Checks:\n",
    "* `{name, course} -> {grade}` ✅\n",
    "* `{name} -> {school}` ❌"
   ]
  },
  {
   "cell_type": "markdown",
   "metadata": {},
   "source": [
    "* Split tables (***key***)\n",
    "\n",
    "| *name*   | *course*| grade |\n",
    "|----------|---------|-------|\n",
    "| Monica   | math    | 6     |\n",
    "| Monica   | physics | 6     |\n",
    "| Monica   | biology | 6     |\n",
    "| Chandler | math    | 4     |\n",
    "\n",
    "| *name*   |school  |\n",
    "|----------|-------|\n",
    "| Monica   | ETH |\n",
    "| Chandler | EPFL   |\n"
   ]
  },
  {
   "cell_type": "markdown",
   "metadata": {},
   "source": [
    "**Mnemonic:**\n",
    "2NF mainly focuses on tables having composite key that consists of ≥**2** columns."
   ]
  },
  {
   "cell_type": "markdown",
   "metadata": {},
   "source": [
    "### 3NF"
   ]
  },
  {
   "cell_type": "markdown",
   "metadata": {},
   "source": [
    "* Add rating\n",
    "\n",
    "| *name*   | *course*| grade | rating |\n",
    "|----------|---------|-------|--------|\n",
    "| Monica   | math    | 6     | Good   |\n",
    "| Monica   | physics | 6     | Good   |\n",
    "| Monica   | biology | 6     | Good   |\n",
    "| Chandler | math    | 4     | Pass   |  "
   ]
  },
  {
   "cell_type": "markdown",
   "metadata": {},
   "source": [
    "* Chandler's math grade was wrong: 4 -> 6\n",
    "\n",
    "| *name*   | *course*| grade | rating |\n",
    "|----------|---------|-------|--------|\n",
    "| Monica   | math    | 6     | Good   |\n",
    "| Monica   | physics | 6     | Good   |\n",
    "| Monica   | biology | 6     | Good   |\n",
    "| Chandler | math    | 6     | **Pass**|\n",
    "\n",
    "    Data inconsistency"
   ]
  },
  {
   "cell_type": "markdown",
   "metadata": {},
   "source": [
    "#### Transitive dependency\n",
    "\n",
    "* `{name, course} -> {grade}` ✅\n",
    "* `{name, course} -> {grade} -> {rating}` ❌"
   ]
  },
  {
   "cell_type": "markdown",
   "metadata": {},
   "source": [
    "#### 3NF rules\n",
    "* Every non-key attribute in a table should depend on the key, the whole key, and nothing but the key."
   ]
  },
  {
   "cell_type": "markdown",
   "metadata": {
    "tags": []
   },
   "source": [
    "#### Normalization\n",
    "\n",
    "* Split the table (again)\n",
    "\n",
    "| *name*   | *course*| grade |\n",
    "|----------|---------|-------|\n",
    "| Monica   | math    | 6     |\n",
    "| Monica   | physics | 6     |\n",
    "| Monica   | biology | 6     |\n",
    "| Chandler | math    | 4     | \n",
    "\n",
    "| *grade* | rating |\n",
    "|-------|--------|\n",
    "| 6     | Good   |\n",
    "| 4     | Pass   |"
   ]
  },
  {
   "cell_type": "markdown",
   "metadata": {},
   "source": [
    "**Nemonic:** 3NF deals with transitive dependencies, which typically involve ≥**3** attributes."
   ]
  },
  {
   "cell_type": "markdown",
   "metadata": {},
   "source": [
    "#### BCNF\n",
    "* Every **~non-key~** attribute in a table should depend on the key, the whole key, and nothing but the key."
   ]
  },
  {
   "cell_type": "markdown",
   "metadata": {},
   "source": [
    "### Objectives of NFs"
   ]
  },
  {
   "cell_type": "markdown",
   "metadata": {
    "tags": []
   },
   "source": [
    "1. **Reduction of Redundancy:**\n",
    "   Normalization helps eliminate redundant data within a database by organizing it into smaller, more manageable tables. Reducing redundancy ensures that each piece of information is stored in only one place, improving data consistency and saving storage space.\n",
    "\n",
    "2. **Prevention of Update Anomalies:**\n",
    "   Normalization helps prevent update anomalies that can occur when data is duplicated. Without normalization, updating one instance of duplicated data might result in inconsistencies or errors if the other instances are not updated correctly.\n",
    "\n",
    "3. **Prevention of Insertion Anomalies:**\n",
    "   Insertion anomalies can occur when attempting to insert new data into a table. Proper normalization ensures that all required information can be inserted without violating any constraints, thereby maintaining data integrity.\n",
    "\n",
    "4. **Prevention of Deletion Anomalies:**\n",
    "   Normalization helps prevent deletion anomalies, which can occur if deleting a piece of information unintentionally removes other related data that is valid and necessary.\n",
    "\n",
    "5. **Simplified Modification Process:**\n",
    "   With a normalized database, modifying the structure or content of the database is more straightforward. Changes can be made in one place without the need to update redundant data scattered across the database.\n",
    "\n",
    "6. **Enhanced Readability and Understandability:**\n",
    "   Normalized databases are typically organized in a logical and clear manner, making it easier for developers, analysts, and users to understand the database structure and relationships.\n",
    "\n",
    "7. **Efficient Data Retrieval:**\n",
    "   By breaking down data into smaller, logically related tables, normalization can improve data retrieval efficiency by reducing the need for redundant storage and enabling more efficient queries.\n",
    "\n",
    "---\n",
    "\n",
    "**In short, normalized tables are**\n",
    "* easier to understand\n",
    "* easier to enhance and extend\n",
    "* projected from all kinds of anormalises\n",
    "\n",
    "Overall, normal forms play a crucial role in ensuring that a database is well-structured, consistent, and efficient, which is essential for the reliable and effective management of data in various applications and systems."
   ]
  },
  {
   "cell_type": "markdown",
   "metadata": {},
   "source": [
    "### Origin of the data\n",
    "You can find more information on the dataset in the following links\n",
    "- [Discogs](https://www.discogs.com/)\n",
    "- [Discogs XML data dumps](http://data.discogs.com/)\n",
    "\n",
    "If you do not want to use Docker or it does not work you can download the dataset from this [link](https://cloud.inf.ethz.ch/s/DtjCHTLRHT39BRN/download/discogs.dump.xz), see `postgres-init.sh` to see how to import it)"
   ]
  },
  {
   "cell_type": "code",
   "execution_count": 1,
   "metadata": {
    "tags": []
   },
   "outputs": [],
   "source": [
    "server='db'\n",
    "user='postgres'\n",
    "password='example'\n",
    "database='postgres'\n",
    "connection_string=f'postgresql://{user}:{password}@{server}:5432/{database}'"
   ]
  },
  {
   "cell_type": "code",
   "execution_count": 2,
   "metadata": {
    "tags": []
   },
   "outputs": [],
   "source": [
    "%reload_ext sql\n",
    "%sql $connection_string"
   ]
  },
  {
   "cell_type": "code",
   "execution_count": 3,
   "metadata": {
    "tags": []
   },
   "outputs": [
    {
     "name": "stdout",
     "output_type": "stream",
     "text": [
      " * postgresql://postgres:***@db:5432/postgres\n",
      "1 rows affected.\n"
     ]
    },
    {
     "data": {
      "text/html": [
       "<table>\n",
       "    <tr>\n",
       "        <th>version</th>\n",
       "    </tr>\n",
       "    <tr>\n",
       "        <td>PostgreSQL 16.0 (Debian 16.0-1.pgdg120+1) on aarch64-unknown-linux-gnu, compiled by gcc (Debian 12.2.0-14) 12.2.0, 64-bit</td>\n",
       "    </tr>\n",
       "</table>"
      ],
      "text/plain": [
       "[('PostgreSQL 16.0 (Debian 16.0-1.pgdg120+1) on aarch64-unknown-linux-gnu, compiled by gcc (Debian 12.2.0-14) 12.2.0, 64-bit',)]"
      ]
     },
     "execution_count": 3,
     "metadata": {},
     "output_type": "execute_result"
    }
   ],
   "source": [
    "%%sql\n",
    "SELECT version();"
   ]
  },
  {
   "cell_type": "markdown",
   "metadata": {},
   "source": [
    "### Database Set-up\n",
    "We will be once again working in the ExamMagicBox (you can find it in the following [[link]](http://please.add.link.here) if you have not downloaded it yet): please drag this Notebook in the folder. Just like last week, activate the docker container for the exercise sheet with `docker compose up`; please wait for the message `PostgreSQL init process complete; ready for start up` in the docker logs before proceeding! Alternatively you can start the Docker with `docker compose up -d` and wait for the command to execute: please note that you are creating the containers in the background this way. You can then type `docker compose down` when you are done.\n",
    "\n",
    "As before, we set up our connection to the database and enable use of `%sql` and `%%sql`."
   ]
  },
  {
   "cell_type": "markdown",
   "metadata": {},
   "source": [
    "### Database Set-up\n",
    "We will be once again working in the ExamMagicBox (you can find it in the following [[link]](http://please.add.link.here) if you have not downloaded it yet): please drag this Notebook in the folder. Just like last week, activate the docker container for the exercise sheet with `docker compose up`; please wait for the message `PostgreSQL init process complete; ready for start up` in the docker logs before proceeding! Alternatively you can start the Docker with `docker compose up -d` and wait for the command to execute: please note that you are creating the containers in the background this way. You can then type `docker compose down` when you are done.\n",
    "\n",
    "As before, we set up our connection to the database and enable use of `%sql` and `%%sql`."
   ]
  },
  {
   "cell_type": "code",
   "execution_count": 4,
   "metadata": {
    "tags": []
   },
   "outputs": [],
   "source": [
    "server='db'\n",
    "user='postgres'\n",
    "password='example'\n",
    "database='postgres'\n",
    "connection_string=f'postgresql://{user}:{password}@{server}:5432/{database}'"
   ]
  },
  {
   "cell_type": "code",
   "execution_count": 5,
   "metadata": {
    "tags": []
   },
   "outputs": [],
   "source": [
    "%reload_ext sql\n",
    "%sql $connection_string"
   ]
  },
  {
   "cell_type": "code",
   "execution_count": 6,
   "metadata": {
    "tags": []
   },
   "outputs": [
    {
     "name": "stdout",
     "output_type": "stream",
     "text": [
      " * postgresql://postgres:***@db:5432/postgres\n",
      "1 rows affected.\n"
     ]
    },
    {
     "data": {
      "text/html": [
       "<table>\n",
       "    <tr>\n",
       "        <th>version</th>\n",
       "    </tr>\n",
       "    <tr>\n",
       "        <td>PostgreSQL 16.0 (Debian 16.0-1.pgdg120+1) on aarch64-unknown-linux-gnu, compiled by gcc (Debian 12.2.0-14) 12.2.0, 64-bit</td>\n",
       "    </tr>\n",
       "</table>"
      ],
      "text/plain": [
       "[('PostgreSQL 16.0 (Debian 16.0-1.pgdg120+1) on aarch64-unknown-linux-gnu, compiled by gcc (Debian 12.2.0-14) 12.2.0, 64-bit',)]"
      ]
     },
     "execution_count": 6,
     "metadata": {},
     "output_type": "execute_result"
    }
   ],
   "source": [
    "%%sql\n",
    "SELECT version();"
   ]
  },
  {
   "cell_type": "markdown",
   "metadata": {},
   "source": [
    "### Origin of the data\n",
    "You can find more information on the dataset in the following links\n",
    "- [Discogs](https://www.discogs.com/)\n",
    "- [Discogs XML data dumps](http://data.discogs.com/)\n",
    "\n",
    "If you do not want to use Docker or it does not work you can download the dataset from this [link](https://cloud.inf.ethz.ch/s/DtjCHTLRHT39BRN/download/discogs.dump.xz), see `postgres-init.sh` to see how to import it)"
   ]
  },
  {
   "cell_type": "markdown",
   "metadata": {},
   "source": [
    "## Exercise 1: Explore the dataset\n",
    "We want to first understand the dataset a bit better. You will find some queries below to help you explore the schema."
   ]
  },
  {
   "cell_type": "markdown",
   "metadata": {},
   "source": [
    "### List tables\n",
    "The following query retrieves a list of tables in the database from a system table describing the current database."
   ]
  },
  {
   "cell_type": "code",
   "execution_count": 7,
   "metadata": {
    "collapsed": true,
    "jupyter": {
     "outputs_hidden": true
    },
    "tags": []
   },
   "outputs": [
    {
     "name": "stdout",
     "output_type": "stream",
     "text": [
      " * postgresql://postgres:***@db:5432/postgres\n",
      "22 rows affected.\n"
     ]
    },
    {
     "data": {
      "text/html": [
       "<table>\n",
       "    <tr>\n",
       "        <th>table_name</th>\n",
       "    </tr>\n",
       "    <tr>\n",
       "        <td>companies</td>\n",
       "    </tr>\n",
       "    <tr>\n",
       "        <td>jobs</td>\n",
       "    </tr>\n",
       "    <tr>\n",
       "        <td>employees02</td>\n",
       "    </tr>\n",
       "    <tr>\n",
       "        <td>badges</td>\n",
       "    </tr>\n",
       "    <tr>\n",
       "        <td>comments</td>\n",
       "    </tr>\n",
       "    <tr>\n",
       "        <td>inventory</td>\n",
       "    </tr>\n",
       "    <tr>\n",
       "        <td>posthistory</td>\n",
       "    </tr>\n",
       "    <tr>\n",
       "        <td>postlinks</td>\n",
       "    </tr>\n",
       "    <tr>\n",
       "        <td>posts</td>\n",
       "    </tr>\n",
       "    <tr>\n",
       "        <td>tags</td>\n",
       "    </tr>\n",
       "    <tr>\n",
       "        <td>users</td>\n",
       "    </tr>\n",
       "    <tr>\n",
       "        <td>votes</td>\n",
       "    </tr>\n",
       "    <tr>\n",
       "        <td>artists</td>\n",
       "    </tr>\n",
       "    <tr>\n",
       "        <td>released_by</td>\n",
       "    </tr>\n",
       "    <tr>\n",
       "        <td>releases</td>\n",
       "    </tr>\n",
       "    <tr>\n",
       "        <td>tracks</td>\n",
       "    </tr>\n",
       "    <tr>\n",
       "        <td>employees</td>\n",
       "    </tr>\n",
       "    <tr>\n",
       "        <td>dept_manager</td>\n",
       "    </tr>\n",
       "    <tr>\n",
       "        <td>departments</td>\n",
       "    </tr>\n",
       "    <tr>\n",
       "        <td>dept_emp</td>\n",
       "    </tr>\n",
       "    <tr>\n",
       "        <td>titles</td>\n",
       "    </tr>\n",
       "    <tr>\n",
       "        <td>salaries</td>\n",
       "    </tr>\n",
       "</table>"
      ],
      "text/plain": [
       "[('companies',),\n",
       " ('jobs',),\n",
       " ('employees02',),\n",
       " ('badges',),\n",
       " ('comments',),\n",
       " ('inventory',),\n",
       " ('posthistory',),\n",
       " ('postlinks',),\n",
       " ('posts',),\n",
       " ('tags',),\n",
       " ('users',),\n",
       " ('votes',),\n",
       " ('artists',),\n",
       " ('released_by',),\n",
       " ('releases',),\n",
       " ('tracks',),\n",
       " ('employees',),\n",
       " ('dept_manager',),\n",
       " ('departments',),\n",
       " ('dept_emp',),\n",
       " ('titles',),\n",
       " ('salaries',)]"
      ]
     },
     "execution_count": 7,
     "metadata": {},
     "output_type": "execute_result"
    }
   ],
   "source": [
    "%%sql \n",
    "SELECT table_name\n",
    "FROM information_schema.tables\n",
    "WHERE table_schema = 'public';"
   ]
  },
  {
   "cell_type": "markdown",
   "metadata": {},
   "source": [
    "### List attributes/columns\n",
    "The following query retrieves a list of columns from the tables in the database we will be using."
   ]
  },
  {
   "cell_type": "code",
   "execution_count": 8,
   "metadata": {
    "tags": []
   },
   "outputs": [
    {
     "name": "stdout",
     "output_type": "stream",
     "text": [
      " * postgresql://postgres:***@db:5432/postgres\n",
      "17 rows affected.\n"
     ]
    },
    {
     "data": {
      "text/html": [
       "<table>\n",
       "    <tr>\n",
       "        <th>table_name</th>\n",
       "        <th>column_name</th>\n",
       "        <th>data_type</th>\n",
       "        <th>is_nullable</th>\n",
       "        <th>ordinal_position</th>\n",
       "    </tr>\n",
       "    <tr>\n",
       "        <td>artists</td>\n",
       "        <td>artist_id</td>\n",
       "        <td>integer</td>\n",
       "        <td>NO</td>\n",
       "        <td>1</td>\n",
       "    </tr>\n",
       "    <tr>\n",
       "        <td>artists</td>\n",
       "        <td>name</td>\n",
       "        <td>character varying</td>\n",
       "        <td>YES</td>\n",
       "        <td>2</td>\n",
       "    </tr>\n",
       "    <tr>\n",
       "        <td>artists</td>\n",
       "        <td>realname</td>\n",
       "        <td>text</td>\n",
       "        <td>YES</td>\n",
       "        <td>3</td>\n",
       "    </tr>\n",
       "    <tr>\n",
       "        <td>artists</td>\n",
       "        <td>profile</td>\n",
       "        <td>text</td>\n",
       "        <td>YES</td>\n",
       "        <td>4</td>\n",
       "    </tr>\n",
       "    <tr>\n",
       "        <td>artists</td>\n",
       "        <td>url</td>\n",
       "        <td>text</td>\n",
       "        <td>YES</td>\n",
       "        <td>5</td>\n",
       "    </tr>\n",
       "    <tr>\n",
       "        <td>released_by</td>\n",
       "        <td>release_id</td>\n",
       "        <td>integer</td>\n",
       "        <td>NO</td>\n",
       "        <td>1</td>\n",
       "    </tr>\n",
       "    <tr>\n",
       "        <td>released_by</td>\n",
       "        <td>artist_id</td>\n",
       "        <td>integer</td>\n",
       "        <td>NO</td>\n",
       "        <td>2</td>\n",
       "    </tr>\n",
       "    <tr>\n",
       "        <td>releases</td>\n",
       "        <td>release_id</td>\n",
       "        <td>integer</td>\n",
       "        <td>NO</td>\n",
       "        <td>1</td>\n",
       "    </tr>\n",
       "    <tr>\n",
       "        <td>releases</td>\n",
       "        <td>released</td>\n",
       "        <td>date</td>\n",
       "        <td>NO</td>\n",
       "        <td>2</td>\n",
       "    </tr>\n",
       "    <tr>\n",
       "        <td>releases</td>\n",
       "        <td>title</td>\n",
       "        <td>text</td>\n",
       "        <td>NO</td>\n",
       "        <td>3</td>\n",
       "    </tr>\n",
       "    <tr>\n",
       "        <td>releases</td>\n",
       "        <td>country</td>\n",
       "        <td>character varying</td>\n",
       "        <td>YES</td>\n",
       "        <td>4</td>\n",
       "    </tr>\n",
       "    <tr>\n",
       "        <td>releases</td>\n",
       "        <td>genre</td>\n",
       "        <td>character varying</td>\n",
       "        <td>NO</td>\n",
       "        <td>5</td>\n",
       "    </tr>\n",
       "    <tr>\n",
       "        <td>tracks</td>\n",
       "        <td>release_id</td>\n",
       "        <td>integer</td>\n",
       "        <td>NO</td>\n",
       "        <td>1</td>\n",
       "    </tr>\n",
       "    <tr>\n",
       "        <td>tracks</td>\n",
       "        <td>position</td>\n",
       "        <td>character varying</td>\n",
       "        <td>YES</td>\n",
       "        <td>2</td>\n",
       "    </tr>\n",
       "    <tr>\n",
       "        <td>tracks</td>\n",
       "        <td>title</td>\n",
       "        <td>text</td>\n",
       "        <td>YES</td>\n",
       "        <td>3</td>\n",
       "    </tr>\n",
       "    <tr>\n",
       "        <td>tracks</td>\n",
       "        <td>duration</td>\n",
       "        <td>integer</td>\n",
       "        <td>YES</td>\n",
       "        <td>4</td>\n",
       "    </tr>\n",
       "    <tr>\n",
       "        <td>tracks</td>\n",
       "        <td>track_id</td>\n",
       "        <td>integer</td>\n",
       "        <td>NO</td>\n",
       "        <td>5</td>\n",
       "    </tr>\n",
       "</table>"
      ],
      "text/plain": [
       "[('artists', 'artist_id', 'integer', 'NO', 1),\n",
       " ('artists', 'name', 'character varying', 'YES', 2),\n",
       " ('artists', 'realname', 'text', 'YES', 3),\n",
       " ('artists', 'profile', 'text', 'YES', 4),\n",
       " ('artists', 'url', 'text', 'YES', 5),\n",
       " ('released_by', 'release_id', 'integer', 'NO', 1),\n",
       " ('released_by', 'artist_id', 'integer', 'NO', 2),\n",
       " ('releases', 'release_id', 'integer', 'NO', 1),\n",
       " ('releases', 'released', 'date', 'NO', 2),\n",
       " ('releases', 'title', 'text', 'NO', 3),\n",
       " ('releases', 'country', 'character varying', 'YES', 4),\n",
       " ('releases', 'genre', 'character varying', 'NO', 5),\n",
       " ('tracks', 'release_id', 'integer', 'NO', 1),\n",
       " ('tracks', 'position', 'character varying', 'YES', 2),\n",
       " ('tracks', 'title', 'text', 'YES', 3),\n",
       " ('tracks', 'duration', 'integer', 'YES', 4),\n",
       " ('tracks', 'track_id', 'integer', 'NO', 5)]"
      ]
     },
     "execution_count": 8,
     "metadata": {},
     "output_type": "execute_result"
    }
   ],
   "source": [
    "%%sql \n",
    "SELECT table_name, column_name, data_type, is_nullable, ordinal_position\n",
    "FROM information_schema.columns\n",
    "WHERE table_schema = 'public' AND table_name IN ('artists', 'released_by', 'releases', 'tracks')\n",
    "AND table_name NOT LIKE 'pg_%'\n",
    "ORDER BY table_name, ordinal_position;"
   ]
  },
  {
   "cell_type": "markdown",
   "metadata": {},
   "source": [
    "### Have a look at the datasets\n",
    "The following simple query gives the first 5 rows of the `artists` dataset"
   ]
  },
  {
   "cell_type": "code",
   "execution_count": 9,
   "metadata": {
    "tags": []
   },
   "outputs": [
    {
     "name": "stdout",
     "output_type": "stream",
     "text": [
      " * postgresql://postgres:***@db:5432/postgres\n",
      "5 rows affected.\n"
     ]
    },
    {
     "data": {
      "text/html": [
       "<table>\n",
       "    <tr>\n",
       "        <th>artist_id</th>\n",
       "        <th>name</th>\n",
       "        <th>realname</th>\n",
       "        <th>profile</th>\n",
       "        <th>url</th>\n",
       "    </tr>\n",
       "    <tr>\n",
       "        <td>1</td>\n",
       "        <td>The Persuader</td>\n",
       "        <td>Jesper Dahlbäck</td>\n",
       "        <td>None</td>\n",
       "        <td>None</td>\n",
       "    </tr>\n",
       "    <tr>\n",
       "        <td>2</td>\n",
       "        <td>Mr. James Barth &amp; A.D.</td>\n",
       "        <td>Cari Lekebusch &amp; Alexi Delano</td>\n",
       "        <td>None</td>\n",
       "        <td>None</td>\n",
       "    </tr>\n",
       "    <tr>\n",
       "        <td>3</td>\n",
       "        <td>Josh Wink</td>\n",
       "        <td>Joshua Winkelman</td>\n",
       "        <td>After forming [l=Ovum Recordings] as an independent label in October 1994 with former partner [a=King Britt], Josh recorded the cult classic &#x27;Liquid Summer&#x27;. He went on to release singles for a wide variety of revered European labels ranging from Belgium&#x27;s [l=R &amp; S Records] to England&#x27;s [l=XL Recordings]. In 1995, Wink became one of the first DJ-producers to translate his hard work into mainstream success when he unleashed a string of classics including &#x27;Don&#x27;t Laugh&#x27;¸ &#x27;I&#x27;m Ready&#x27; and &#x27;Higher State of Consciousness&#x27; that topped charts worldwide. More recently he has had massive club hits such as &#x27;How&#x27;s Your Evening So Far&#x27; and &#x27;Superfreak&#x27; but he has also gained a lot of attention trough his remixes for [a=FC Kahuna], [a=Paul Oakenfold], [a=Ladytron], [a=Clint Mansell], [a=Sting] and [a=Depeche Mode], among others.</td>\n",
       "        <td>http://www.joshwink.com/</td>\n",
       "    </tr>\n",
       "    <tr>\n",
       "        <td>4</td>\n",
       "        <td>Johannes Heil</td>\n",
       "        <td>Johannes Heil</td>\n",
       "        <td>Electronic music producer, musician and live performer, born 3 February 1978 near the town of Bad Nauheim, Germany. Founder of [l=JH] and [l=Metatron Recordings].</td>\n",
       "        <td>http://johannes-heil.com/</td>\n",
       "    </tr>\n",
       "    <tr>\n",
       "        <td>5</td>\n",
       "        <td>Heiko Laux</td>\n",
       "        <td>Heiko Laux</td>\n",
       "        <td>German DJ and producer based in Berlin. He is the founder of [l=Kanzleramt].</td>\n",
       "        <td>http://www.heiko-laux.com</td>\n",
       "    </tr>\n",
       "</table>"
      ],
      "text/plain": [
       "[(1, 'The Persuader', 'Jesper Dahlbäck', None, None),\n",
       " (2, 'Mr. James Barth & A.D.', 'Cari Lekebusch & Alexi Delano', None, None),\n",
       " (3, 'Josh Wink', 'Joshua Winkelman', \"After forming [l=Ovum Recordings] as an independent label in October 1994 with former partner [a=King Britt], Josh recorded the cult classic 'Liquid  ... (527 characters truncated) ... of attention trough his remixes for [a=FC Kahuna], [a=Paul Oakenfold], [a=Ladytron], [a=Clint Mansell], [a=Sting] and [a=Depeche Mode], among others.\", 'http://www.joshwink.com/'),\n",
       " (4, 'Johannes Heil', 'Johannes Heil', 'Electronic music producer, musician and live performer, born 3 February 1978 near the town of Bad Nauheim, Germany. Founder of [l=JH] and [l=Metatron Recordings].', 'http://johannes-heil.com/'),\n",
       " (5, 'Heiko Laux', 'Heiko Laux', 'German DJ and producer based in Berlin. He is the founder of [l=Kanzleramt].', 'http://www.heiko-laux.com')]"
      ]
     },
     "execution_count": 9,
     "metadata": {},
     "output_type": "execute_result"
    }
   ],
   "source": [
    "%%sql\n",
    "SELECT * FROM artists LIMIT 5;"
   ]
  },
  {
   "cell_type": "markdown",
   "metadata": {},
   "source": [
    "Naturally we could write similar queries to better understand each of the other tables."
   ]
  },
  {
   "cell_type": "markdown",
   "metadata": {},
   "source": [
    "### With what you now know about the datasets, try to answer the following questions\n",
    "\n",
    "1. Which concepts are modelled in the dataset and how do they relate to each other? <b>Hint</b>: how do the tables connect logically?\n",
    "2. Why do you think this shape (table) was chosen for the data and why not the other shapes? \n",
    "3. In which normal forms are the corresponding relations? \n",
    "4. How can we denormalise the data to make some queries more efficient? <b>Hint</b>: have a look at the queries in the next session of the exercises to see if adding some columns to some tables could reduce the need to `JOIN`.\n",
    "5. What potential problems could result from adding redundancy?"
   ]
  },
  {
   "cell_type": "markdown",
   "metadata": {
    "tags": []
   },
   "source": [
    "1. The dataset models the concepts of artists, releases (albums), and tracks. The artists table contains information about individual artists, identified by artist_id. The releases table contains information about albums, each identified by a release_id. The tracks table contains information about individual tracks, each identified by a track_id and associated with a specific release through the release_id. The released_by table connects the artists and releases tables by indicating which artist released which album.\n",
    "\n",
    "2. This shape was chosen for the data to normalize it and reduce redundancy. By separating the data into distinct tables (artists, releases, and tracks), each piece of information is stored only once, reducing the chance of inconsistencies. For example, instead of repeating the artist's information for each track they've created, the data model simply references the artist's ID.\n",
    "\n",
    "3. The relations are in at least the third normal form (3NF). In 1NF, each table has a primary key (artist_id, release_id, track_id), and all columns are atomic. In 2NF, there are no partial dependencies (no non-key attribute depends on a part of the primary key). In 3NF, there are no transitive dependencies (non-key attributes do not depend on other non-key attributes).\n",
    "\n",
    "4. To make some queries more efficient, we could denormalize the data by adding some redundancy. For instance, if many queries join the artists and releases tables, we could add an artist_name column to the releases table. Similarly, if many queries join the releases and tracks tables, we could add release_title and genre columns to the tracks table.\n",
    "\n",
    "5. Adding redundancy could lead to several potential problems. First, it increases the space required to store the data. Second, it can lead to inconsistencies if not managed properly; if an artist's name is changed in the artists table but not in the releases table, for example, the data will be inconsistent. Lastly, it can make updates more complicated, as changes need to be made in multiple places."
   ]
  },
  {
   "cell_type": "markdown",
   "metadata": {},
   "source": [
    "## Exercise 2: SQL warm-up\n",
    "Let us begin with several SQL queries to ease us back into the language.\n",
    "\n",
    "#### 1. Retrieve the artists with the name of 'Coldplay'."
   ]
  },
  {
   "cell_type": "code",
   "execution_count": null,
   "metadata": {},
   "outputs": [],
   "source": []
  },
  {
   "cell_type": "markdown",
   "metadata": {},
   "source": [
    "#### 2. List the titles of all releases by that artist in alphabetical order.\n",
    "<b>Hint</b>: Ignore the fact that different relases can have the same title."
   ]
  },
  {
   "cell_type": "code",
   "execution_count": null,
   "metadata": {},
   "outputs": [],
   "source": []
  },
  {
   "cell_type": "markdown",
   "metadata": {},
   "source": [
    "#### 3. How many tracks from 'Coldplay' have position '1'?"
   ]
  },
  {
   "cell_type": "code",
   "execution_count": null,
   "metadata": {},
   "outputs": [],
   "source": []
  },
  {
   "cell_type": "markdown",
   "metadata": {},
   "source": [
    "#### 4. What is the average track duration?"
   ]
  },
  {
   "cell_type": "code",
   "execution_count": null,
   "metadata": {},
   "outputs": [],
   "source": []
  },
  {
   "cell_type": "markdown",
   "metadata": {},
   "source": [
    "#### 5. How many artists have released tracks longer than twice the average?"
   ]
  },
  {
   "cell_type": "code",
   "execution_count": null,
   "metadata": {},
   "outputs": [],
   "source": []
  },
  {
   "cell_type": "markdown",
   "metadata": {},
   "source": [
    "## Exercise 3: more SQL\n",
    "We will now see more complex SQL queries."
   ]
  },
  {
   "cell_type": "markdown",
   "metadata": {},
   "source": [
    "#### 1. What is the title of the album from 'Coldplay' with the most number of tracks?"
   ]
  },
  {
   "cell_type": "code",
   "execution_count": null,
   "metadata": {},
   "outputs": [],
   "source": []
  },
  {
   "cell_type": "markdown",
   "metadata": {},
   "source": [
    "#### 2. How many artists have released an album with total track duration above twice the average total track duration?\n",
    "\n",
    "<b>Hint</b>: this is not the same as exercise 2.5 since we are lookong at the <b>total</b> track duration of the album."
   ]
  },
  {
   "cell_type": "code",
   "execution_count": null,
   "metadata": {},
   "outputs": [],
   "source": []
  },
  {
   "cell_type": "markdown",
   "metadata": {},
   "source": [
    "#### 3. How many artists have both a release with a track longer than twice the average and one with total duration longer than twice the average?\n",
    "\n",
    "<b>Hint</b>: you can use `INTERSECT` or `EXISTS` to write your query."
   ]
  },
  {
   "cell_type": "code",
   "execution_count": null,
   "metadata": {},
   "outputs": [],
   "source": []
  },
  {
   "cell_type": "markdown",
   "metadata": {},
   "source": [
    "#### 4. Show the artists have more than 200 releases in total but have no releases with the genre 'Pop' in reversed alphabetical order."
   ]
  },
  {
   "cell_type": "code",
   "execution_count": null,
   "metadata": {},
   "outputs": [],
   "source": []
  },
  {
   "cell_type": "markdown",
   "metadata": {},
   "source": [
    "## Exercise 4: Discuss query patterns and language features of SQL\n",
    "1. What patterns did you use in many of the queries above? \n",
    "\n",
    "2. What is the usual pattern of an SQL query? Which operations happen pre-grouping and which ones post-grouping?\n",
    "\n",
    "3. What makes SQL a declarative language and what advantages does that have?\n",
    "\n",
    "4. What makes SQL a functional language and what advantages does that have?\n",
    "\n",
    "5. How would the denormalization we talked about previously simplify the queries?"
   ]
  },
  {
   "cell_type": "markdown",
   "metadata": {
    "jupyter": {
     "source_hidden": true
    },
    "tags": []
   },
   "source": [
    "1. **Patterns Used in SQL Queries:**\n",
    "   In SQL queries, common patterns include:\n",
    "   - **SELECT-FROM-WHERE**: Selecting specific columns from a table based on specified conditions.\n",
    "   - **JOIN**: Combining data from multiple tables based on related columns.\n",
    "   - **GROUP BY**: Aggregating data and performing operations on groups of data.\n",
    "   - **ORDER BY**: Sorting the results based on specified columns.\n",
    "   - **SUBQUERIES**: Nesting one query within another to retrieve more complex results.\n",
    "   - **UNION, INTERSECT, EXCEPT**: Combining, finding commonalities, or finding differences between result sets.\n",
    "\n",
    "2. **Usual Pattern of an SQL Query:**\n",
    "   The usual pattern of an SQL query is:\n",
    "   ```sql\n",
    "   SELECT [columns]\n",
    "   FROM [table(s)]\n",
    "   WHERE [conditions]\n",
    "   GROUP BY [columns]\n",
    "   HAVING [conditions after grouping]\n",
    "   ORDER BY [columns]\n",
    "   ```\n",
    "   Operations like filtering (`WHERE`), grouping (`GROUP BY`), and sorting (`ORDER BY`) typically happen before the data is presented to the user, while operations involving aggregation (`SUM`, `COUNT`, etc.) usually occur post-grouping.\n",
    "\n",
    "3. **SQL as a Declarative Language:**\n",
    "   SQL is declarative, meaning that you specify what you want to retrieve or manipulate without specifying how to achieve it. Users describe the desired results, and the SQL engine determines the most efficient way to execute the query. This provides advantages such as simplicity, abstraction, and focus on what is needed rather than the implementation details.\n",
    "\n",
    "4. **SQL as a Functional Language:**\n",
    "   SQL can exhibit functional programming characteristics, particularly with operations like `SUM`, `COUNT`, `MIN`, `MAX`, etc., which treat database tables and result sets as collections of data. It allows for data transformation without modifying the original data, adhering to functional programming principles. This supports immutability and can lead to more maintainable and understandable code.\n",
    "\n",
    "5. **Denormalization and Query Simplification:**\n",
    "   Denormalization involves adding redundant data to a table to reduce the need for joins and simplify queries. In the context of the database discussed earlier, denormalization could involve adding redundant artist information (e.g., artist name) to the releases table. This would simplify queries related to releases, eliminating the need to join with the artists table to retrieve artist details, thereby improving query efficiency and readability."
   ]
  },
  {
   "cell_type": "code",
   "execution_count": null,
   "metadata": {},
   "outputs": [],
   "source": []
  },
  {
   "cell_type": "markdown",
   "metadata": {},
   "source": [
    "## Exercise 5: Limits of SQL (optional)\n",
    "Explain what the following query does.\n",
    "<b>Hints</b>: The query treats the data as if it was in graph shape."
   ]
  },
  {
   "cell_type": "code",
   "execution_count": null,
   "metadata": {},
   "outputs": [],
   "source": [
    "%%sql\n",
    "WITH RECURSIVE\n",
    "    X AS (SELECT 3 AS Value),\n",
    "    artist_releases AS (\n",
    "        SELECT artists.artist_id, artists.name, releases.release_id, releases.title\n",
    "        FROM artists, released_by, releases\n",
    "        WHERE artists.artist_id = released_by.artist_id\n",
    "        AND released_by.release_id = releases.release_id\n",
    "    ),\n",
    "    collaborations AS (\n",
    "        SELECT DISTINCT ar1.artist_id AS left_id, ar1.name AS left_name, \n",
    "                ar2.artist_id AS right_id, ar2.name AS right_name, 1 AS distance\n",
    "        FROM artist_releases AS ar1, artist_releases AS ar2\n",
    "        WHERE ar1.release_id = ar2.release_id\n",
    "        AND ar1.artist_id != ar2.artist_id\n",
    "    ),\n",
    "    X_hop_collaborations AS (\n",
    "        SELECT * FROM collaborations  -- base case\n",
    "        UNION\n",
    "        SELECT c1.left_id, c1.left_name, c2.right_id, c2.right_name, c1.distance + 1 AS distance\n",
    "        FROM X_hop_collaborations AS c1\n",
    "        JOIN collaborations c2 ON c1.right_id = c2.left_id\n",
    "        WHERE c1.distance < (SELECT * FROM X)\n",
    "    )\n",
    "SELECT * \n",
    "FROM X_hop_collaborations\n",
    "WHERE left_name = 'Coldplay'\n",
    "ORDER BY distance, right_name;"
   ]
  },
  {
   "cell_type": "code",
   "execution_count": null,
   "metadata": {},
   "outputs": [],
   "source": []
  }
 ],
 "metadata": {
  "kernelspec": {
   "display_name": "Python 3 (ipykernel)",
   "language": "python",
   "name": "python3"
  },
  "language_info": {
   "codemirror_mode": {
    "name": "ipython",
    "version": 3
   },
   "file_extension": ".py",
   "mimetype": "text/x-python",
   "name": "python",
   "nbconvert_exporter": "python",
   "pygments_lexer": "ipython3",
   "version": "3.7.3"
  }
 },
 "nbformat": 4,
 "nbformat_minor": 4
}
