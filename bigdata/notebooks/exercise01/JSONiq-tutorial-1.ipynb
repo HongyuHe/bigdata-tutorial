{
 "cells": [
  {
   "cell_type": "markdown",
   "id": "80b4ef60",
   "metadata": {},
   "source": [
    "# Big Data HS 2023\n",
    "\n",
    "## JSONiq tutorial - week 1"
   ]
  },
  {
   "cell_type": "markdown",
   "id": "0d21726b",
   "metadata": {},
   "source": [
    "Every week, you will get a small tutorial notebook that introduces you to the JSONiq language with the RumbleDB engine. You can simply copy this notebook to the \"notebooks\" folder in your Exam MagicBox docker environment (provided by the TA team as a zip to download and uncompress on your laptop), and then open it in your browser.\n",
    "\n",
    "Do not forget to use localhost:8888 as the URL to make sure the notebook is accessed via docker!\n",
    "\n",
    "And if it does not work, you should delete all containers, images, and volumes, then try again with\n",
    "\n"
   ]
  },
  {
   "cell_type": "markdown",
   "id": "469ccebf",
   "metadata": {},
   "source": [
    "````\n",
    "docker-compose up\n",
    "````"
   ]
  },
  {
   "cell_type": "markdown",
   "id": "8c33831c",
   "metadata": {},
   "source": [
    "# A few words on JSONiq\n",
    "\n",
    "JSONiq is a query language, just like SQL.\n",
    "\n",
    "It is functional and declarative, just like SQL.\n",
    "\n",
    "But there is something more: while SQL was designed for querying tables (ideally, in normal form), JSONiq can be used with denormalized data, even if it is very messy. We will see in the course, in due time, that the data that JSONiq can query is a superset of the data that SQL can query."
   ]
  },
  {
   "cell_type": "markdown",
   "id": "f5d0c8a5",
   "metadata": {},
   "source": [
    "# A few words on RumbleDB\n",
    "\n",
    "RumbleDB is a querying engine that supports JSONiq queries.\n",
    "\n",
    "It is the result of several years of work by many ETH students, who contributed through their Master's thesis, Bachelor's thesis or semester project.\n",
    "\n",
    "RumbleDB can query very small datasets (even just a few kilobytes), but it can also query very large datasets (we tested it well into the dozens of Terabytes with no issues, and we are confident it also works with Petabytes of data).\n",
    "\n",
    "It works on your laptop just as well as on a large cluster in a data center (we tested it with up to 64 machines so far with no issues).\n",
    "\n",
    "It can be invoked from the command line reading the query from a file, or can be used in shell mode, or can run as a server, interacting through Jupyter notebooks.\n",
    "\n",
    "It is simply a jar file to download and only requires Java to work, although for your convenience, the TA team packaged it nicely in this docker to work with Jupyter notebooks."
   ]
  },
  {
   "cell_type": "markdown",
   "id": "7fa4dd13",
   "metadata": {},
   "source": [
    "# JSONiq as a calculator\n",
    "\n",
    "This week, we will start smoothly with simple functionality: that of a calculator. In fact, this is similar to Python in this respect.\n",
    "\n",
    "But first, some paperwork: just run the cell below to connect the Jupyter notebook with RumbleDB."
   ]
  },
  {
   "cell_type": "code",
   "execution_count": 5,
   "id": "49147176",
   "metadata": {
    "tags": []
   },
   "outputs": [
    {
     "name": "stdout",
     "output_type": "stream",
     "text": [
      "The rumbledb extension is already loaded. To reload it, use:\n",
      "  %reload_ext rumbledb\n",
      "env: RUMBLEDB_SERVER=http://localhost:9090/jsoniq\n"
     ]
    }
   ],
   "source": [
    "%load_ext rumbledb\n",
    "%env RUMBLEDB_SERVER=http://localhost:9090/jsoniq"
   ]
  },
  {
   "cell_type": "markdown",
   "id": "27a5a020",
   "metadata": {},
   "source": [
    "Done? Alright. Now, you can execute JSONiq query in Jupyter cells, as long as you include %%jsoniq on the first line. Try to run this!"
   ]
  },
  {
   "cell_type": "code",
   "execution_count": 7,
   "id": "90e2f365",
   "metadata": {
    "tags": []
   },
   "outputs": [
    {
     "name": "stdout",
     "output_type": "stream",
     "text": [
      "Took: 0.8739359378814697 ms\n",
      "2\n"
     ]
    }
   ],
   "source": [
    "%%jsoniq\n",
    "1+1"
   ]
  },
  {
   "cell_type": "markdown",
   "id": "b0f07c3a",
   "metadata": {},
   "source": [
    "JSONiq supports basic arithmetic: addition (+), subtraction (-), multiplication (*), division (div), modulo (mod)."
   ]
  },
  {
   "cell_type": "code",
   "execution_count": 4,
   "id": "c8037b28",
   "metadata": {
    "tags": []
   },
   "outputs": [
    {
     "name": "stdout",
     "output_type": "stream",
     "text": [
      "Took: 0.042000770568847656 ms\n",
      "2\n"
     ]
    }
   ],
   "source": [
    "%%jsoniq\n",
    "6-4"
   ]
  },
  {
   "cell_type": "code",
   "execution_count": 4,
   "id": "e673f6f6",
   "metadata": {},
   "outputs": [
    {
     "name": "stdout",
     "output_type": "stream",
     "text": [
      "Took: 0.02055978775024414 ms\n",
      "24\n"
     ]
    }
   ],
   "source": [
    "%%jsoniq\n",
    "6*4"
   ]
  },
  {
   "cell_type": "code",
   "execution_count": 5,
   "id": "171e69ac",
   "metadata": {},
   "outputs": [
    {
     "name": "stdout",
     "output_type": "stream",
     "text": [
      "Took: 0.03036212921142578 ms\n",
      "1.5\n"
     ]
    }
   ],
   "source": [
    "%%jsoniq\n",
    "6 div 4"
   ]
  },
  {
   "cell_type": "code",
   "execution_count": 6,
   "id": "d75434ac",
   "metadata": {},
   "outputs": [
    {
     "name": "stdout",
     "output_type": "stream",
     "text": [
      "Took: 0.038191795349121094 ms\n",
      "2\n"
     ]
    }
   ],
   "source": [
    "%%jsoniq\n",
    "6 mod 4"
   ]
  },
  {
   "cell_type": "markdown",
   "id": "7f278312",
   "metadata": {},
   "source": [
    "There are of course precedence rules (known as PEMDAS in English-speaking countries: search for it!).\n",
    "\n",
    "Whenever you want to override the precedence, use parentheses. Whenever unsure about the precedence, use parentheses too. It is obvious that multiplication has precedence over addition, but when we introduce many more JSONiq expression, it will become tough for a human being to remember all the precendence rules. Better to have too many parentheses than too few."
   ]
  },
  {
   "cell_type": "code",
   "execution_count": 7,
   "id": "45b65080",
   "metadata": {},
   "outputs": [
    {
     "name": "stdout",
     "output_type": "stream",
     "text": [
      "Took: 0.042469024658203125 ms\n",
      "-5\n"
     ]
    }
   ],
   "source": [
    "%%jsoniq\n",
    "(4 + 6) * (6 mod 2 - 1) div 2"
   ]
  },
  {
   "cell_type": "markdown",
   "id": "c2c5fa22",
   "metadata": {},
   "source": [
    "## Logic\n",
    "Logical operations\n",
    "JSONiq supports Boolean logic.\n",
    "\n"
   ]
  },
  {
   "cell_type": "code",
   "execution_count": 8,
   "id": "0580af96",
   "metadata": {},
   "outputs": [
    {
     "name": "stdout",
     "output_type": "stream",
     "text": [
      "Took: 0.033081769943237305 ms\n",
      "false\n"
     ]
    }
   ],
   "source": [
    "%%jsoniq\n",
    "true and false"
   ]
  },
  {
   "cell_type": "code",
   "execution_count": 9,
   "id": "79c73f5a",
   "metadata": {},
   "outputs": [
    {
     "name": "stdout",
     "output_type": "stream",
     "text": [
      "Took: 0.01787710189819336 ms\n",
      "true\n"
     ]
    }
   ],
   "source": [
    "%%jsoniq\n",
    "(true or false) and (false or true)"
   ]
  },
  {
   "cell_type": "markdown",
   "id": "05f22856",
   "metadata": {},
   "source": [
    "The unary not is also available:"
   ]
  },
  {
   "cell_type": "code",
   "execution_count": 10,
   "id": "8dd8206b",
   "metadata": {},
   "outputs": [
    {
     "name": "stdout",
     "output_type": "stream",
     "text": [
      "Took: 0.030964136123657227 ms\n",
      "false\n"
     ]
    }
   ],
   "source": [
    "%%jsoniq\n",
    "not true"
   ]
  },
  {
   "cell_type": "markdown",
   "id": "6f15cbe6",
   "metadata": {},
   "source": [
    "Note that JSONiq, unlike SQL, does two-valued logic. Nulls are automatically converted to false."
   ]
  },
  {
   "cell_type": "code",
   "execution_count": 11,
   "id": "de5eaff7",
   "metadata": {},
   "outputs": [
    {
     "name": "stdout",
     "output_type": "stream",
     "text": [
      "Took: 0.03037095069885254 ms\n",
      "false\n"
     ]
    }
   ],
   "source": [
    "%%jsoniq\n",
    "null and true"
   ]
  },
  {
   "cell_type": "markdown",
   "id": "9df87ef6",
   "metadata": {},
   "source": [
    "Some non-Booleans can also get converted. For example, non-empty strings are converted to true and empty strings to false. Non-zero numbers are converted to true, and zero to false."
   ]
  },
  {
   "cell_type": "code",
   "execution_count": 25,
   "id": "d20c0d55",
   "metadata": {},
   "outputs": [
    {
     "name": "stdout",
     "output_type": "stream",
     "text": [
      "Took: 0.07593774795532227 ms\n",
      "true\n"
     ]
    }
   ],
   "source": [
    "%%jsoniq\n",
    "not \"\""
   ]
  },
  {
   "cell_type": "code",
   "execution_count": 13,
   "id": "366a92aa",
   "metadata": {},
   "outputs": [
    {
     "name": "stdout",
     "output_type": "stream",
     "text": [
      "Took: 0.03122711181640625 ms\n",
      "false\n"
     ]
    }
   ],
   "source": [
    "%%jsoniq\n",
    "not \"non empty\""
   ]
  },
  {
   "cell_type": "code",
   "execution_count": 14,
   "id": "a7ebbfc3",
   "metadata": {},
   "outputs": [
    {
     "name": "stdout",
     "output_type": "stream",
     "text": [
      "Took: 0.03744983673095703 ms\n",
      "true\n"
     ]
    }
   ],
   "source": [
    "%%jsoniq\n",
    "not 0"
   ]
  },
  {
   "cell_type": "markdown",
   "id": "98b8d2f4",
   "metadata": {},
   "source": [
    "Zero is converted to false, non-zero numbers to true."
   ]
  },
  {
   "cell_type": "markdown",
   "id": "19df7966",
   "metadata": {},
   "source": [
    "# Comparison\n",
    "\n",
    "JSONiq supports comparisons, like SQL and all programming languages including Python."
   ]
  },
  {
   "cell_type": "code",
   "execution_count": 15,
   "id": "83b5df10",
   "metadata": {},
   "outputs": [
    {
     "name": "stdout",
     "output_type": "stream",
     "text": [
      "Took: 0.04356193542480469 ms\n",
      "false\n"
     ]
    }
   ],
   "source": [
    "%%jsoniq\n",
    "2 = 1"
   ]
  },
  {
   "cell_type": "code",
   "execution_count": 16,
   "id": "451bb8a8",
   "metadata": {},
   "outputs": [
    {
     "name": "stdout",
     "output_type": "stream",
     "text": [
      "Took: 0.03111863136291504 ms\n",
      "true\n"
     ]
    }
   ],
   "source": [
    "%%jsoniq\n",
    "2 != 1"
   ]
  },
  {
   "cell_type": "code",
   "execution_count": 17,
   "id": "5808b60a",
   "metadata": {},
   "outputs": [
    {
     "name": "stdout",
     "output_type": "stream",
     "text": [
      "Took: 0.04473590850830078 ms\n",
      "true\n"
     ]
    }
   ],
   "source": [
    "%%jsoniq\n",
    "2 > 1"
   ]
  },
  {
   "cell_type": "code",
   "execution_count": 18,
   "id": "473d29d3",
   "metadata": {},
   "outputs": [
    {
     "name": "stdout",
     "output_type": "stream",
     "text": [
      "Took: 0.02445697784423828 ms\n",
      "false\n"
     ]
    }
   ],
   "source": [
    "%%jsoniq\n",
    "2 < 1"
   ]
  },
  {
   "cell_type": "code",
   "execution_count": 19,
   "id": "d7b02047",
   "metadata": {},
   "outputs": [
    {
     "name": "stdout",
     "output_type": "stream",
     "text": [
      "Took: 0.024837970733642578 ms\n",
      "true\n"
     ]
    }
   ],
   "source": [
    "%%jsoniq\n",
    "2 >= 1"
   ]
  },
  {
   "cell_type": "code",
   "execution_count": 20,
   "id": "e87d9134",
   "metadata": {},
   "outputs": [
    {
     "name": "stdout",
     "output_type": "stream",
     "text": [
      "Took: 0.031045913696289062 ms\n",
      "false\n"
     ]
    }
   ],
   "source": [
    "%%jsoniq\n",
    "2 <= 1"
   ]
  },
  {
   "cell_type": "markdown",
   "id": "7096c2b3",
   "metadata": {},
   "source": [
    "You can use these, as well as logic, in if-then-else expressions!"
   ]
  },
  {
   "cell_type": "code",
   "execution_count": 21,
   "id": "66fc82d7",
   "metadata": {},
   "outputs": [
    {
     "name": "stdout",
     "output_type": "stream",
     "text": [
      "Took: 0.03601789474487305 ms\n",
      "\"This is true!\"\n"
     ]
    }
   ],
   "source": [
    "%%jsoniq\n",
    "if(2 = 1 + 1 and 3 > 2) then \"This is true!\" else \"This is false!\""
   ]
  },
  {
   "cell_type": "markdown",
   "id": "af8cdc4e",
   "metadata": {},
   "source": [
    "By the way, lines and indentation is irrelevant, unlike in Python, but it looks nice to a human if you spread such expressions over multiple lines."
   ]
  },
  {
   "cell_type": "code",
   "execution_count": 22,
   "id": "1fbc6af1",
   "metadata": {},
   "outputs": [
    {
     "name": "stdout",
     "output_type": "stream",
     "text": [
      "Took: 0.034491777420043945 ms\n",
      "\"This is true!\"\n"
     ]
    }
   ],
   "source": [
    "%%jsoniq\n",
    "if(2 = 1 + 1 and 3 > 2)\n",
    "then \"This is true!\"\n",
    "else \"This is false!\""
   ]
  },
  {
   "cell_type": "markdown",
   "id": "1cd650dd",
   "metadata": {},
   "source": [
    "# Try your own queries!\n",
    "\n",
    "This notebook is interactive. You can edit all queries above and also execute your own! We will show you more features every week."
   ]
  },
  {
   "cell_type": "code",
   "execution_count": null,
   "id": "fa53f4cf",
   "metadata": {},
   "outputs": [],
   "source": [
    "%%jsoniq\n",
    "1+1"
   ]
  },
  {
   "cell_type": "code",
   "execution_count": null,
   "id": "c781a830",
   "metadata": {},
   "outputs": [],
   "source": [
    "%%jsoniq\n",
    "1+1"
   ]
  },
  {
   "cell_type": "code",
   "execution_count": null,
   "id": "067e0db1",
   "metadata": {},
   "outputs": [],
   "source": [
    "%%jsoniq\n",
    "1+1"
   ]
  },
  {
   "cell_type": "code",
   "execution_count": null,
   "id": "1ddcd5e7",
   "metadata": {},
   "outputs": [],
   "source": [
    "%%jsoniq\n",
    "1+1"
   ]
  },
  {
   "cell_type": "code",
   "execution_count": null,
   "id": "e5b0ab65",
   "metadata": {},
   "outputs": [],
   "source": [
    "%%jsoniq\n",
    "1+1"
   ]
  },
  {
   "cell_type": "code",
   "execution_count": null,
   "id": "987f06d0",
   "metadata": {},
   "outputs": [],
   "source": [
    "%%jsoniq\n",
    "1+1"
   ]
  },
  {
   "cell_type": "code",
   "execution_count": null,
   "id": "7831547c",
   "metadata": {},
   "outputs": [],
   "source": []
  },
  {
   "cell_type": "code",
   "execution_count": null,
   "id": "ac36ecd5",
   "metadata": {},
   "outputs": [],
   "source": []
  },
  {
   "cell_type": "code",
   "execution_count": null,
   "id": "bdb50a93",
   "metadata": {},
   "outputs": [],
   "source": []
  }
 ],
 "metadata": {
  "kernelspec": {
   "display_name": "Python 3 (ipykernel)",
   "language": "python",
   "name": "python3"
  },
  "language_info": {
   "codemirror_mode": {
    "name": "ipython",
    "version": 3
   },
   "file_extension": ".py",
   "mimetype": "text/x-python",
   "name": "python",
   "nbconvert_exporter": "python",
   "pygments_lexer": "ipython3",
   "version": "3.10.13"
  }
 },
 "nbformat": 4,
 "nbformat_minor": 5
}
