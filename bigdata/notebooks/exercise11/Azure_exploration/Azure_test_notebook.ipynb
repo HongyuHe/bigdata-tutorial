{
 "cells": [
  {
   "cell_type": "code",
   "execution_count": null,
   "id": "c82758b2",
   "metadata": {},
   "outputs": [],
   "source": [
    "!pip install rumbledb\n",
    "%load_ext rumbledb\n",
    "%env RUMBLEDB_SERVER=http://localhost:8002/jsoniq\n"
   ]
  },
  {
   "cell_type": "code",
   "execution_count": 4,
   "id": "8c16f6e2",
   "metadata": {},
   "outputs": [
    {
     "name": "stdout",
     "output_type": "stream",
     "text": [
      "Took: 0.9881229400634766 ms\n",
      "{\"pi\": 3.14, \"sq2\": 1.4}\n"
     ]
    }
   ],
   "source": [
    "%%jsoniq\n",
    "{ \"pi\" : 3.14, \"sq2\" : 1.4 }"
   ]
  },
  {
   "cell_type": "code",
   "execution_count": 5,
   "id": "b32565c6",
   "metadata": {},
   "outputs": [
    {
     "name": "stdout",
     "output_type": "stream",
     "text": [
      "Took: 26.92125678062439 ms\n",
      "36577\n"
     ]
    }
   ],
   "source": [
    "%%jsoniq\n",
    "count(json-file(\"wasbs://newcontainer@rumbledb.blob.core.windows.net/git-archive.json\"))\n"
   ]
  },
  {
   "cell_type": "code",
   "execution_count": null,
   "id": "9a8003a9",
   "metadata": {},
   "outputs": [],
   "source": []
  }
 ],
 "metadata": {
  "kernelspec": {
   "display_name": "Python 3",
   "language": "python",
   "name": "python3"
  },
  "language_info": {
   "codemirror_mode": {
    "name": "ipython",
    "version": 3
   },
   "file_extension": ".py",
   "mimetype": "text/x-python",
   "name": "python",
   "nbconvert_exporter": "python",
   "pygments_lexer": "ipython3",
   "version": "3.8.3"
  }
 },
 "nbformat": 4,
 "nbformat_minor": 5
}
