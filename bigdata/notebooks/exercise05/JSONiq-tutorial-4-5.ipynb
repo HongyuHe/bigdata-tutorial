{
 "cells": [
  {
   "cell_type": "markdown",
   "id": "80b4ef60",
   "metadata": {
    "tags": []
   },
   "source": [
    "# Big Data HS 2023\n",
    "\n",
    "## JSONiq tutorial - weeks 4 and 5"
   ]
  },
  {
   "cell_type": "markdown",
   "id": "0d21726b",
   "metadata": {},
   "source": [
    "This is the JSONiq tutorial for weeks 4 and 5.\n",
    "\n",
    "Do not forget to use localhost:8888 as the URL to make sure the notebook is accessed via docker! And if it does not work, you should delete all containers, images, and volumes, then try again with\n",
    "\n"
   ]
  },
  {
   "cell_type": "markdown",
   "id": "469ccebf",
   "metadata": {},
   "source": [
    "````\n",
    "docker-compose up\n",
    "````"
   ]
  },
  {
   "cell_type": "markdown",
   "id": "7fa4dd13",
   "metadata": {},
   "source": [
    "Like last week, junst run the cell below to connect the Jupyter notebook with RumbleDB."
   ]
  },
  {
   "cell_type": "code",
   "execution_count": 1,
   "id": "49147176",
   "metadata": {},
   "outputs": [
    {
     "name": "stdout",
     "output_type": "stream",
     "text": [
      "env: RUMBLEDB_SERVER=http://localhost:9090/jsoniq\n"
     ]
    }
   ],
   "source": [
    "%load_ext rumbledb\n",
    "%env RUMBLEDB_SERVER=http://localhost:9090/jsoniq"
   ]
  },
  {
   "cell_type": "markdown",
   "id": "e8fe589f",
   "metadata": {
    "tags": []
   },
   "source": [
    "## Arrays and Objects\n",
    "Any well-formed JSON document is a JSONiq expression as well. This means that you can copy-and-paste any JSON document into a query, including arrays and objects. "
   ]
  },
  {
   "cell_type": "code",
   "execution_count": 2,
   "id": "82a4c51b",
   "metadata": {},
   "outputs": [
    {
     "name": "stdout",
     "output_type": "stream",
     "text": [
      "Took: 0.03573894500732422 ms\n",
      "[2, 3, 5, 7, 11, 13]\n"
     ]
    }
   ],
   "source": [
    "%%jsoniq\n",
    "[ 2, 3, 5, 7, 11, 13 ]"
   ]
  },
  {
   "cell_type": "code",
   "execution_count": 3,
   "id": "7d4694b3",
   "metadata": {},
   "outputs": [
    {
     "name": "stdout",
     "output_type": "stream",
     "text": [
      "Took: 0.022755146026611328 ms\n",
      "{\"pi\": 3.14, \"sq2\": 1.4}\n"
     ]
    }
   ],
   "source": [
    "%%jsoniq\n",
    "{ \"pi\" : 3.14, \"sq2\" : 1.4 }"
   ]
  },
  {
   "cell_type": "markdown",
   "id": "4efb8cce",
   "metadata": {},
   "source": [
    "Just like in a JSON document, you can arbitrarily nest arrays and objects."
   ]
  },
  {
   "cell_type": "code",
   "execution_count": 4,
   "id": "e8143097",
   "metadata": {
    "scrolled": true,
    "tags": []
   },
   "outputs": [
    {
     "name": "stdout",
     "output_type": "stream",
     "text": [
      "Took: 0.010058164596557617 ms\n",
      "{\"operations\": [{\"binary\": [\"and\", \"or\"]}, {\"unary\": [\"not\"]}], \"bits\": [0, 1]}\n"
     ]
    }
   ],
   "source": [
    "%%jsoniq\n",
    "{\n",
    "  \"operations\" : [\n",
    "    { \"binary\" : [ \"and\", \"or\"] },\n",
    "    { \"unary\" : [\"not\"] }\n",
    "  ],\n",
    "  \"bits\" : [\n",
    "    0, 1\n",
    "  ]\n",
    "}"
   ]
  },
  {
   "cell_type": "code",
   "execution_count": 5,
   "id": "fd655fed",
   "metadata": {
    "scrolled": true
   },
   "outputs": [
    {
     "name": "stdout",
     "output_type": "stream",
     "text": [
      "Took: 0.008957147598266602 ms\n",
      "[{\"Question\": \"Ultimate\"}, [\"Life\", \"the universe\", \"and everything\"]]\n"
     ]
    }
   ],
   "source": [
    "%%jsoniq\n",
    "[ { \"Question\" : \"Ultimate\" }, [\"Life\", \"the universe\", \"and everything\"] ]"
   ]
  },
  {
   "cell_type": "markdown",
   "id": "ef79c4bf",
   "metadata": {},
   "source": [
    "The above queries are \"idempotent\" (they just output themselves). This works with objects, arrays (even nested), strings, numbers, booleans, null.\n",
    "\n",
    "It also works the other way round: if your query outputs an object, you can use it as a JSON document.\n",
    "JSONiq is a declarative language. This means that you only need to say what you want - the compiler will take care of the how. \n",
    "\n",
    "In the above queries, you are basically saying: I want to output this JSON content, and here it is."
   ]
  },
  {
   "cell_type": "markdown",
   "id": "be5bf164",
   "metadata": {},
   "source": [
    "In fact JSONiq makes JSON \"dynamic\": try to replace numbers with arithmetic formulas, keys with concatenations of strings, etc and see how the resulting JSON object is automatically created."
   ]
  },
  {
   "cell_type": "code",
   "execution_count": 6,
   "id": "aa53ef19",
   "metadata": {},
   "outputs": [
    {
     "name": "stdout",
     "output_type": "stream",
     "text": [
      "Took: 0.01450967788696289 ms\n",
      "[{\"foo\": 4, \"bar\": true}, 35]\n"
     ]
    }
   ],
   "source": [
    "%%jsoniq\n",
    "[{\n",
    "    \"foo\" : 2 + 2,\n",
    "    \"bar\" : if(2 gt 1) then true else false\n",
    "}, 5 * 7]"
   ]
  },
  {
   "cell_type": "markdown",
   "id": "0f521284",
   "metadata": {},
   "source": [
    "You can also use the `to` operator to generate an array."
   ]
  },
  {
   "cell_type": "code",
   "execution_count": 7,
   "id": "ef7772da",
   "metadata": {},
   "outputs": [
    {
     "name": "stdout",
     "output_type": "stream",
     "text": [
      "Took: 0.009694814682006836 ms\n",
      "[1, 2, 3, 4, 5]\n"
     ]
    }
   ],
   "source": [
    "%%jsoniq\n",
    "[1 to 5]"
   ]
  },
  {
   "cell_type": "markdown",
   "id": "c799ef7a",
   "metadata": {
    "cell_status": {
     "execute_time": {
      "duration": 17337.39599609375,
      "end_time": 1557230774662.657
     }
    }
   },
   "source": [
    "\n",
    "## Sequences\n",
    "\n",
    "Until now, we have only been working with single values (an object, an array, a number, a string, a boolean). JSONiq supports sequences of values. You can build a sequence using commas:\n"
   ]
  },
  {
   "cell_type": "code",
   "execution_count": 8,
   "id": "90e2f365",
   "metadata": {
    "scrolled": true
   },
   "outputs": [
    {
     "name": "stdout",
     "output_type": "stream",
     "text": [
      "Took: 0.01904892921447754 ms\n",
      "1\n",
      "2\n",
      "3\n",
      "4\n",
      "5\n",
      "6\n",
      "7\n",
      "8\n",
      "9\n",
      "10\n"
     ]
    }
   ],
   "source": [
    "%%jsoniq\n",
    " (1, 2, 3, 4, 5, 6, 7, 8, 9, 10)"
   ]
  },
  {
   "cell_type": "markdown",
   "id": "1047ae31",
   "metadata": {},
   "source": [
    "Sequences can be heterogeneous."
   ]
  },
  {
   "cell_type": "code",
   "execution_count": 9,
   "id": "0c6473ac",
   "metadata": {},
   "outputs": [
    {
     "name": "stdout",
     "output_type": "stream",
     "text": [
      "Took: 0.009652853012084961 ms\n",
      "1\n",
      "true\n",
      "42\n",
      "\"Life\"\n",
      "[1, 2]\n",
      "{\"foo\": \"bar\"}\n"
     ]
    }
   ],
   "source": [
    "%%jsoniq\n",
    "1, true, 4.2e1, \"Life\", [1,2], {\"foo\": \"bar\"}"
   ]
  },
  {
   "cell_type": "markdown",
   "id": "4ff4bb16",
   "metadata": {},
   "source": [
    "You can also use the `to` operator to generate a sequence."
   ]
  },
  {
   "cell_type": "code",
   "execution_count": 10,
   "id": "d12559c7",
   "metadata": {},
   "outputs": [
    {
     "name": "stdout",
     "output_type": "stream",
     "text": [
      "Took: 0.009476184844970703 ms\n",
      "1\n",
      "2\n",
      "3\n",
      "4\n",
      "5\n"
     ]
    }
   ],
   "source": [
    " %%jsoniq\n",
    "1 to 5"
   ]
  },
  {
   "cell_type": "markdown",
   "id": "a54e548f",
   "metadata": {},
   "source": [
    "Unlike arrays and objects, sequences are flat, which means sequences cannot be nested. The following cells are the same."
   ]
  },
  {
   "cell_type": "code",
   "execution_count": 11,
   "id": "08a1d77a",
   "metadata": {},
   "outputs": [
    {
     "name": "stdout",
     "output_type": "stream",
     "text": [
      "Took: 0.009335994720458984 ms\n",
      "1\n",
      "2\n",
      "3\n",
      "4\n",
      "5\n",
      "6\n",
      "7\n",
      "8\n",
      "9\n",
      "10\n"
     ]
    }
   ],
   "source": [
    "%%jsoniq\n",
    " (1, 2), ((3)), ((4, (5)), 6, 7, 8, 9), 10"
   ]
  },
  {
   "cell_type": "code",
   "execution_count": 12,
   "id": "d9071fe6",
   "metadata": {},
   "outputs": [
    {
     "name": "stdout",
     "output_type": "stream",
     "text": [
      "Took: 0.00943899154663086 ms\n",
      "1\n",
      "2\n",
      "3\n",
      "4\n",
      "5\n",
      "6\n",
      "7\n",
      "8\n",
      "9\n",
      "10\n"
     ]
    }
   ],
   "source": [
    "%%jsoniq\n",
    " (1, 2, 3, 4, 5, 6, 7, 8, 9, 10)"
   ]
  },
  {
   "cell_type": "code",
   "execution_count": 13,
   "id": "519ef542",
   "metadata": {},
   "outputs": [
    {
     "name": "stdout",
     "output_type": "stream",
     "text": [
      "Took: 0.009459972381591797 ms\n",
      "1\n",
      "2\n",
      "3\n",
      "4\n",
      "5\n",
      "6\n",
      "7\n",
      "8\n",
      "9\n",
      "10\n"
     ]
    }
   ],
   "source": [
    " %%jsoniq\n",
    "1, 2, 3, 4, 5, 6, 7, 8, 9, 10"
   ]
  },
  {
   "cell_type": "code",
   "execution_count": 14,
   "id": "19b6d135",
   "metadata": {},
   "outputs": [
    {
     "name": "stdout",
     "output_type": "stream",
     "text": [
      "Took: 0.010783910751342773 ms\n",
      "1\n",
      "2\n",
      "3\n",
      "4\n",
      "5\n",
      "6\n",
      "7\n",
      "8\n",
      "9\n",
      "10\n"
     ]
    }
   ],
   "source": [
    " %%jsoniq\n",
    "1 to 10"
   ]
  },
  {
   "cell_type": "markdown",
   "id": "ca8a3738",
   "metadata": {
    "cell_status": {
     "execute_time": {
      "duration": 17337.39599609375,
      "end_time": 1557230774662.657
     }
    }
   },
   "source": [
    "\n",
    "## Lookup and Unboxing\n",
    "\n",
    "You can lookup a specific position of an array with the `[[]]` array lookup syntax. Note that JSONiq uses the 1-based indexing."
   ]
  },
  {
   "cell_type": "code",
   "execution_count": 15,
   "id": "72deb686",
   "metadata": {},
   "outputs": [
    {
     "name": "stdout",
     "output_type": "stream",
     "text": [
      "Took: 0.010334014892578125 ms\n",
      "5\n"
     ]
    }
   ],
   "source": [
    " %%jsoniq\n",
    "[1, 5, 9][[2]]"
   ]
  },
  {
   "cell_type": "markdown",
   "id": "79806cc6",
   "metadata": {},
   "source": [
    "Similarly, you can lookup a specific position of a sequence with the `[]` sequence lookup syntax."
   ]
  },
  {
   "cell_type": "code",
   "execution_count": 16,
   "id": "2db9ee77",
   "metadata": {},
   "outputs": [
    {
     "name": "stdout",
     "output_type": "stream",
     "text": [
      "Took: 0.009680032730102539 ms\n",
      "5\n"
     ]
    }
   ],
   "source": [
    " %%jsoniq\n",
    "(1, 5, 9)[2]"
   ]
  },
  {
   "cell_type": "markdown",
   "id": "35a05261",
   "metadata": {},
   "source": [
    "Moreover, you can filter values in a sequence satisfying certain conditions. The result of the predicate is converted to a boolean. $$ is used to denote the current item being tested by the predicate."
   ]
  },
  {
   "cell_type": "code",
   "execution_count": 17,
   "id": "0caf1fc4",
   "metadata": {},
   "outputs": [
    {
     "name": "stdout",
     "output_type": "stream",
     "text": [
      "Took: 0.009526968002319336 ms\n",
      "2\n",
      "4\n",
      "6\n",
      "8\n",
      "10\n"
     ]
    }
   ],
   "source": [
    " %%jsoniq\n",
    "(1 to 10)[$$ mod 2 = 0]"
   ]
  },
  {
   "cell_type": "code",
   "execution_count": 18,
   "id": "12161207-431e-409c-a09b-4110dd98af8d",
   "metadata": {},
   "outputs": [
    {
     "name": "stdout",
     "output_type": "stream",
     "text": [
      "Took: 0.010287284851074219 ms\n",
      "4\n",
      "5\n",
      "6\n",
      "7\n",
      "8\n",
      "9\n",
      "10\n"
     ]
    }
   ],
   "source": [
    " %%jsoniq\n",
    "(1 to 10)[$$ gt 3]"
   ]
  },
  {
   "cell_type": "markdown",
   "id": "8e147fe7",
   "metadata": {},
   "source": [
    "You can expand an array to a sequence using the `[]` array unboxing syntax."
   ]
  },
  {
   "cell_type": "code",
   "execution_count": 19,
   "id": "c3998c0a",
   "metadata": {},
   "outputs": [
    {
     "name": "stdout",
     "output_type": "stream",
     "text": [
      "Took: 0.010519027709960938 ms\n",
      "1\n",
      "2\n",
      "3\n"
     ]
    }
   ],
   "source": [
    "%%jsoniq\n",
    "[1, 2, 3][]"
   ]
  },
  {
   "cell_type": "markdown",
   "id": "7921c5a8",
   "metadata": {},
   "source": [
    "You can also lookup a key-value pair in an object with the `.` object lookup syntax."
   ]
  },
  {
   "cell_type": "code",
   "execution_count": 20,
   "id": "696b86fa",
   "metadata": {},
   "outputs": [
    {
     "name": "stdout",
     "output_type": "stream",
     "text": [
      "Took: 0.009566783905029297 ms\n",
      "1.4\n"
     ]
    }
   ],
   "source": [
    "%%jsoniq\n",
    "let $x := { \"pi\" : 3.14, \"sq2\" : 1.4 }\n",
    "return $x.sq2"
   ]
  },
  {
   "cell_type": "markdown",
   "id": "07ea7cba",
   "metadata": {},
   "source": [
    "If you apply the dot object-lookup syntax to a sequence of objects, you get a sequence of corresponding values. In fact, the same apply to array lookup and array unboxing, which work on sequences of arrays as well."
   ]
  },
  {
   "cell_type": "code",
   "execution_count": 21,
   "id": "db30e74d",
   "metadata": {},
   "outputs": [
    {
     "name": "stdout",
     "output_type": "stream",
     "text": [
      "Took: 0.01721334457397461 ms\n",
      "1\n",
      "2\n",
      "1\n"
     ]
    }
   ],
   "source": [
    "%%jsoniq\n",
    "let $x := (\n",
    "     { \"foo\" : 1 },\n",
    "     { \"foo\" : 2 },\n",
    "     { \"foo\" : 1 },\n",
    "     { \"bar\" : 1 }\n",
    "    )\n",
    "return $x.foo"
   ]
  },
  {
   "cell_type": "markdown",
   "id": "be5e7e4d",
   "metadata": {},
   "source": [
    "You can chain lookups, unboxing, and boxing arbitrarily."
   ]
  },
  {
   "cell_type": "code",
   "execution_count": 22,
   "id": "72fc2dbb",
   "metadata": {},
   "outputs": [
    {
     "name": "stdout",
     "output_type": "stream",
     "text": [
      "Took: 0.010958194732666016 ms\n",
      "[\"or\"]\n",
      "1\n",
      "[{\"binary\": [\"and\", \"or\"]}, {\"unary\": [\"not\"]}]\n"
     ]
    }
   ],
   "source": [
    "%%jsoniq\n",
    "let $x := \n",
    "{\n",
    "  \"operations\" : [\n",
    "    { \"binary\" : [ \"and\", \"or\"] },\n",
    "    { \"unary\" : [\"not\"] }\n",
    "  ],\n",
    "  \"bits\" : [\n",
    "    0, 1\n",
    "  ]\n",
    "}\n",
    "return ([$x.operations[].binary[[2]]], $x.bits[[2]], $x[[]].operations)"
   ]
  },
  {
   "cell_type": "markdown",
   "id": "1cd650dd",
   "metadata": {},
   "source": [
    "# Try your own queries!\n",
    "\n",
    "This notebook is interactive. You can edit all queries above and also execute your own! We will show you more features every week."
   ]
  },
  {
   "cell_type": "code",
   "execution_count": 23,
   "id": "fa53f4cf",
   "metadata": {},
   "outputs": [
    {
     "name": "stdout",
     "output_type": "stream",
     "text": [
      "Took: 0.008665084838867188 ms\n",
      "[2]\n"
     ]
    }
   ],
   "source": [
    "%%jsoniq\n",
    "[ 1 + 1 ]"
   ]
  },
  {
   "cell_type": "code",
   "execution_count": 24,
   "id": "c781a830",
   "metadata": {},
   "outputs": [
    {
     "name": "stdout",
     "output_type": "stream",
     "text": [
      "Took: 0.011269807815551758 ms\n",
      "{\"foo\": 1}\n"
     ]
    }
   ],
   "source": [
    "%%jsoniq\n",
    "{ \"foo\": 1 }"
   ]
  },
  {
   "cell_type": "code",
   "execution_count": 25,
   "id": "067e0db1",
   "metadata": {},
   "outputs": [
    {
     "name": "stdout",
     "output_type": "stream",
     "text": [
      "Took: 0.011321067810058594 ms\n",
      "1\n",
      "2\n",
      "3\n"
     ]
    }
   ],
   "source": [
    "%%jsoniq\n",
    "1, 2, 3"
   ]
  },
  {
   "cell_type": "code",
   "execution_count": 26,
   "id": "1ddcd5e7",
   "metadata": {},
   "outputs": [
    {
     "name": "stdout",
     "output_type": "stream",
     "text": [
      "Took: 0.010106086730957031 ms\n",
      "2\n"
     ]
    }
   ],
   "source": [
    "%%jsoniq\n",
    "1+1"
   ]
  },
  {
   "cell_type": "code",
   "execution_count": 27,
   "id": "e5b0ab65",
   "metadata": {},
   "outputs": [
    {
     "name": "stdout",
     "output_type": "stream",
     "text": [
      "Took: 0.009326934814453125 ms\n",
      "2\n"
     ]
    }
   ],
   "source": [
    "%%jsoniq\n",
    "1+1"
   ]
  },
  {
   "cell_type": "code",
   "execution_count": 28,
   "id": "987f06d0",
   "metadata": {},
   "outputs": [
    {
     "name": "stdout",
     "output_type": "stream",
     "text": [
      "Took: 0.009218931198120117 ms\n",
      "2\n"
     ]
    }
   ],
   "source": [
    "%%jsoniq\n",
    "1+1"
   ]
  },
  {
   "cell_type": "code",
   "execution_count": null,
   "id": "ac36ecd5",
   "metadata": {},
   "outputs": [],
   "source": [
    "%%jsoniq\n"
   ]
  },
  {
   "cell_type": "code",
   "execution_count": null,
   "id": "bdb50a93",
   "metadata": {},
   "outputs": [],
   "source": [
    "%%jsoniq\n"
   ]
  }
 ],
 "metadata": {
  "kernelspec": {
   "display_name": "Python 3 (ipykernel)",
   "language": "python",
   "name": "python3"
  },
  "language_info": {
   "codemirror_mode": {
    "name": "ipython",
    "version": 3
   },
   "file_extension": ".py",
   "mimetype": "text/x-python",
   "name": "python",
   "nbconvert_exporter": "python",
   "pygments_lexer": "ipython3",
   "version": "3.10.13"
  }
 },
 "nbformat": 4,
 "nbformat_minor": 5
}
